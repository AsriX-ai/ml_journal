{
 "cells": [
  {
   "cell_type": "markdown",
   "metadata": {},
   "source": [
    "## File Operations with Python\n",
    "### Index\n",
    "- [Read, write , append in text files](#read-write--append-in-text-files)\n",
    "- [Binary files](#binary-files)\n",
    "- [Read and write from source to destination](#read-and-write-from-source-to-destination)\n",
    "- [Read text file , cnt no of lines, wrds and chars](#read-text-file--cnt-no-of-lines-wrds-and-chars)\n",
    "- [Writing and then reading a file](#writing-and-then-reading-a-file)\n",
    "- [Working with file paths](#working-with-file-paths)"
   ]
  },
  {
   "cell_type": "markdown",
   "metadata": {},
   "source": [
    "### Read, write , append in text files"
   ]
  },
  {
   "cell_type": "code",
   "execution_count": 1,
   "metadata": {},
   "outputs": [
    {
     "name": "stdout",
     "output_type": "stream",
     "text": [
      "Hello User, how are you?\n",
      "My name is Ruksin.,\n",
      "Hi User\n"
     ]
    }
   ],
   "source": [
    "# read a file \n",
    "with open(\"sample.txt\", 'r') as file:\n",
    "    content = file.read()\n",
    "    print(content)"
   ]
  },
  {
   "cell_type": "code",
   "execution_count": 5,
   "metadata": {},
   "outputs": [
    {
     "name": "stdout",
     "output_type": "stream",
     "text": [
      "Hello User, how are you?\n",
      "\n",
      "My name is Ruksin.,\n",
      "\n",
      "Hi User\n"
     ]
    }
   ],
   "source": [
    "# read line by line\n",
    "with open(\"sample.txt\", \"r\") as file:\n",
    "    for line in file:\n",
    "        print(line)"
   ]
  },
  {
   "cell_type": "markdown",
   "metadata": {},
   "source": [
    "can see that it has new line with it, __.strip()__ removes it"
   ]
  },
  {
   "cell_type": "code",
   "execution_count": 6,
   "metadata": {},
   "outputs": [],
   "source": [
    "## writing a file (over write)\n",
    "with open(\"sample.txt\", \"w\") as file:\n",
    "    file.write(\"hello user\\n\")\n",
    "    file.write(\"this is just testing\")"
   ]
  },
  {
   "cell_type": "markdown",
   "metadata": {},
   "source": [
    "this is over writing, not a correct method"
   ]
  },
  {
   "cell_type": "code",
   "execution_count": 8,
   "metadata": {},
   "outputs": [],
   "source": [
    "# write file(without overwriting)\n",
    "with open(\"sample.txt\", \"a\") as file:\n",
    "    file.write(\"Appending operating is taking place \\n\")"
   ]
  },
  {
   "cell_type": "code",
   "execution_count": 9,
   "metadata": {},
   "outputs": [],
   "source": [
    "# to write list of lines \n",
    "lines = ['first line\\n', 'second line\\n', 'third line\\n']\n",
    "with open(\"sample.txt\", \"a\") as file:\n",
    "    file.writelines(lines)"
   ]
  },
  {
   "cell_type": "markdown",
   "metadata": {},
   "source": [
    "__writelines()__ writes every lines in list"
   ]
  },
  {
   "cell_type": "markdown",
   "metadata": {},
   "source": [
    "### Binary files\n",
    "- .bin file\n"
   ]
  },
  {
   "cell_type": "code",
   "execution_count": 10,
   "metadata": {},
   "outputs": [],
   "source": [
    "# writing to binary file\n",
    "data = b'\\x00\\x01\\x03\\x04'\n",
    "with open(\"sample.bin\", \"wb\") as file:\n",
    "    file.write(data)"
   ]
  },
  {
   "cell_type": "markdown",
   "metadata": {},
   "source": [
    "__wb__ is write byte mode"
   ]
  },
  {
   "cell_type": "code",
   "execution_count": 2,
   "metadata": {},
   "outputs": [
    {
     "name": "stdout",
     "output_type": "stream",
     "text": [
      "b'\\x00\\x01\\x03\\x04'\n"
     ]
    }
   ],
   "source": [
    "# reading binary file\n",
    "with open(\"sample.bin\", \"rb\") as file:\n",
    "    content = file.read()\n",
    "    print(content)"
   ]
  },
  {
   "cell_type": "markdown",
   "metadata": {},
   "source": [
    "### read and write from source to destination"
   ]
  },
  {
   "cell_type": "code",
   "execution_count": 3,
   "metadata": {},
   "outputs": [],
   "source": [
    "with open('sample.txt', \"r\") as src_file:\n",
    "    content = src_file.read()\n",
    "with open(\"destination.txt\", \"w\") as dest_file:\n",
    "    dest_file.write(content)"
   ]
  },
  {
   "cell_type": "markdown",
   "metadata": {},
   "source": [
    "automatically creates destination.txt file"
   ]
  },
  {
   "cell_type": "markdown",
   "metadata": {},
   "source": [
    "### Read text file , cnt no of lines, wrds and chars"
   ]
  },
  {
   "cell_type": "code",
   "execution_count": 6,
   "metadata": {},
   "outputs": [
    {
     "name": "stdout",
     "output_type": "stream",
     "text": [
      "Lines: 7, Words:21, Characters: 63\n"
     ]
    }
   ],
   "source": [
    "def text_info(filepath):\n",
    "    with open(filepath, \"r\") as file:\n",
    "        lines = file.readlines()\n",
    "        line_cnt = len(lines)\n",
    "        wrd_cnt = sum((len(line.split()) for line in lines))\n",
    "        char_cnt =  (sum(len(word.split())for word in line for line in lines))\n",
    "    return line_cnt, wrd_cnt, char_cnt\n",
    "\n",
    "file_nm = \"sample.txt\"\n",
    "lines, words, characters = text_info(file_nm)\n",
    "print(f\"Lines: {lines}, Words:{words}, Characters: {characters}\")"
   ]
  },
  {
   "cell_type": "markdown",
   "metadata": {},
   "source": [
    "### Writing and then reading a file\n",
    "- open in w+ mode\n",
    "- to open a file for both reading and writing\n",
    "- this mode creates the file, if not exists.\n",
    "- if file exists its content is truncated(i.e., file is overwritten)"
   ]
  },
  {
   "cell_type": "code",
   "execution_count": 8,
   "metadata": {},
   "outputs": [
    {
     "name": "stdout",
     "output_type": "stream",
     "text": [
      "\n"
     ]
    }
   ],
   "source": [
    "# writing and then reading\n",
    "with open(\"sample.txt\",\"w+\") as file:\n",
    "    file.write(\"Hello World \\n\")\n",
    "    file.write(\"THis is a new line \\n\")\n",
    "\n",
    "    #move cursor to the beginning\n",
    "    # file.seek(0)\n",
    "\n",
    "    #read the content\n",
    "    content = file.read()\n",
    "    print(content)"
   ]
  },
  {
   "cell_type": "markdown",
   "metadata": {},
   "source": [
    "- here the file already exixts , so it will be over written\n",
    "- inorder to read the file, we need to move the cursor to the beginning of the file.\n",
    "- if the file.seek(0) is commented,there will be no output"
   ]
  },
  {
   "cell_type": "markdown",
   "metadata": {},
   "source": [
    "### Working with file paths\n",
    "### create new directory, listing files, dirs, absolute path, relative path, isfile or isdir"
   ]
  },
  {
   "cell_type": "code",
   "execution_count": 11,
   "metadata": {},
   "outputs": [
    {
     "name": "stdout",
     "output_type": "stream",
     "text": [
      "Directory test_dir created\n"
     ]
    }
   ],
   "source": [
    "# craete new directory\n",
    "import os\n",
    "new_directory = \"test_dir\"\n",
    "os.mkdir(new_directory)\n",
    "print(f\"Directory {new_directory} created\")"
   ]
  },
  {
   "cell_type": "code",
   "execution_count": 13,
   "metadata": {},
   "outputs": [
    {
     "name": "stdout",
     "output_type": "stream",
     "text": [
      "['destination.txt', 'File_operations.ipynb', 'test_dir', 'Functions.ipynb', 'sample.txt', 'package', 'requirements.txt', 'Dictionary.ipynb', 'LIsts.ipynb', 'Modules_Packages_Libraries.ipynb', 'sample.bin']\n"
     ]
    }
   ],
   "source": [
    "## listing files and directories\n",
    "items = os.listdir('.')\n",
    "print(items)"
   ]
  },
  {
   "cell_type": "markdown",
   "metadata": {},
   "source": [
    ".(dot) here looks on the files in current working directory"
   ]
  },
  {
   "cell_type": "code",
   "execution_count": 14,
   "metadata": {},
   "outputs": [
    {
     "name": "stdout",
     "output_type": "stream",
     "text": [
      "folder/file.txt\n"
     ]
    }
   ],
   "source": [
    "## joining paths or relative path\n",
    "dir_name = \"folder\"\n",
    "filename = \"file.txt\"\n",
    "filepath = os.path.join(dir_name, filename)\n",
    "print(filepath)"
   ]
  },
  {
   "cell_type": "code",
   "execution_count": 15,
   "metadata": {},
   "outputs": [
    {
     "name": "stdout",
     "output_type": "stream",
     "text": [
      "/home/thinkpalm/vs_projects/genai_udemy/ml_journal/python_journal/folder/file.txt\n"
     ]
    }
   ],
   "source": [
    "# get the entire path\n",
    "dir_name = \"folder\"\n",
    "filename = \"file.txt\"\n",
    "filepath = os.path.join(os.getcwd(), dir_name, filename)\n",
    "print(filepath)"
   ]
  },
  {
   "cell_type": "code",
   "execution_count": 16,
   "metadata": {},
   "outputs": [
    {
     "name": "stdout",
     "output_type": "stream",
     "text": [
      "the path sample.txt exists\n"
     ]
    }
   ],
   "source": [
    "path = \"sample.txt\"\n",
    "if os.path.exists(path):\n",
    "    print(f\"the path {path} exists\")\n",
    "else:\n",
    "    print(f\"the path {path} doesn't exists\")\n",
    "    # create the file function"
   ]
  },
  {
   "cell_type": "code",
   "execution_count": 17,
   "metadata": {},
   "outputs": [
    {
     "name": "stdout",
     "output_type": "stream",
     "text": [
      "sample.txt is a file\n"
     ]
    }
   ],
   "source": [
    "# checking if path is file or dir\n",
    "import os \n",
    "path =\"sample.txt\"\n",
    "if os.path.isfile(path):\n",
    "    print(f\"{path} is a file\")\n",
    "elif os.path.isdir(path):\n",
    "    print(f\"{path} is dir\")\n",
    "else:\n",
    "    print(f\"{path} neither file nor directory\")"
   ]
  },
  {
   "cell_type": "code",
   "execution_count": 22,
   "metadata": {},
   "outputs": [
    {
     "name": "stdout",
     "output_type": "stream",
     "text": [
      "/home/thinkpalm/vs_projects/genai_udemy/ml_journal/python_journal/sample.txt\n",
      "sample.txt\n"
     ]
    }
   ],
   "source": [
    "## getting the absolute path\n",
    "relative_path = \"sample.txt\"\n",
    "absolute_path = os.path.abspath(relative_path)\n",
    "print(absolute_path)\n",
    "base_name = os.path.basename(absolute_path)\n",
    "print(base_name)"
   ]
  },
  {
   "cell_type": "code",
   "execution_count": null,
   "metadata": {},
   "outputs": [],
   "source": []
  }
 ],
 "metadata": {
  "kernelspec": {
   "display_name": ".genaivenv",
   "language": "python",
   "name": "python3"
  },
  "language_info": {
   "codemirror_mode": {
    "name": "ipython",
    "version": 3
   },
   "file_extension": ".py",
   "mimetype": "text/x-python",
   "name": "python",
   "nbconvert_exporter": "python",
   "pygments_lexer": "ipython3",
   "version": "3.12.4"
  }
 },
 "nbformat": 4,
 "nbformat_minor": 2
}
