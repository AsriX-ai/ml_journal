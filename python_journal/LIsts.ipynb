{
 "cells": [
  {
   "cell_type": "markdown",
   "metadata": {},
   "source": [
    "## Data Structures Using Python - Lists\n",
    "### Index\n",
    "- [Real world examples using List](#real-world-examples-using-list)\n",
    "    - [Manage a TO-DO List](#example-1-manage-a-to-do-list)\n",
    "    - [Organizing student grades](#example-2-organizing-student-grades)\n",
    "    - [Managing inventory](#example-3-managing-inventory)\n",
    "    - [Collecting user feedback](#example-4-collecting-user-feedback)\n",
    "- [Notes](#notes)\n",
    "    - [Usage of non-empty string in boolean](#in-python-non-empty-strings-evaluate-to-true-when-used-in-a-boolean-context)\n",
    "    - [Generator expression over List comprehension](#usage-of-generator-expression-over-list-comprehension)\n"
   ]
  },
  {
   "cell_type": "markdown",
   "metadata": {},
   "source": [
    "### Real world examples using List\n"
   ]
  },
  {
   "cell_type": "markdown",
   "metadata": {},
   "source": [
    "#### Example 1. Manage a to do list\n",
    "- create a to do list to keep track of tasks"
   ]
  },
  {
   "cell_type": "code",
   "execution_count": null,
   "metadata": {},
   "outputs": [
    {
     "name": "stdout",
     "output_type": "stream",
     "text": [
      "Dont forget to pay the bills\n",
      "To Do list remaining\n",
      "- Buy groceries\n",
      "- pay bills\n",
      "- schedule meeting\n",
      "- go for a run\n"
     ]
    }
   ],
   "source": [
    "to_do_list = [\"Buy groceries\", \"Clean the house\", \"pay bills\"]\n",
    "\n",
    "## adding some task\n",
    "to_do_list.append(\"schedule meeting\")\n",
    "to_do_list.append(\"go for a run\")\n",
    "\n",
    "# removing task if completed\n",
    "to_do_list.remove(\"Clean the house\")\n",
    "\n",
    "## checking if task is in list\n",
    "if \"pay bills\" in to_do_list:\n",
    "    print(\"Dont forget to pay the bills\")\n",
    "\n",
    "print(\"To Do list remaining\")\n",
    "for task in to_do_list:\n",
    "    print(f\"- {task}\")"
   ]
  },
  {
   "cell_type": "markdown",
   "metadata": {},
   "source": [
    "### Example 2. Organizing student grades"
   ]
  },
  {
   "cell_type": "code",
   "execution_count": 4,
   "metadata": {},
   "outputs": [
    {
     "name": "stdout",
     "output_type": "stream",
     "text": [
      "Avg grade 88.0\n",
      "highest grade is 95\n",
      "lowest grade is 78\n"
     ]
    }
   ],
   "source": [
    "grades = [85, 92, 78, 90, 88]\n",
    "grades.append(95)\n",
    "avg_grade = sum(grades)/ len(grades)\n",
    "print(\"Avg grade\", avg_grade)\n",
    "\n",
    "high_grade = max(grades)\n",
    "lowe_grade = min(grades)\n",
    "\n",
    "print(f\"highest grade is {high_grade}\")\n",
    "print(f\"lowest grade is {lowe_grade}\")"
   ]
  },
  {
   "cell_type": "markdown",
   "metadata": {},
   "source": [
    "### Example 3. Managing inventory"
   ]
  },
  {
   "cell_type": "code",
   "execution_count": 5,
   "metadata": {},
   "outputs": [
    {
     "name": "stdout",
     "output_type": "stream",
     "text": [
      "oranges in stock\n",
      "Inventory list in stock\n",
      "- apples\n",
      "- oranges\n",
      "- grapes\n",
      "- strawberries\n"
     ]
    }
   ],
   "source": [
    "inventory = [\"apples\", \"bananas\", \"oranges\", \"grapes\"]\n",
    "inventory.append(\"strawberries\")\n",
    "inventory.remove(\"bananas\")\n",
    "\n",
    "#checking if item is present\n",
    "item = \"oranges\"\n",
    "if item in inventory:\n",
    "    print(f\"{item} in stock\")\n",
    "else:\n",
    "    print(f\"{item} out of stock\")\n",
    "\n",
    "print(\"Inventory list in stock\")\n",
    "for prod in inventory:\n",
    "    print(f\"- {prod}\")\n"
   ]
  },
  {
   "cell_type": "markdown",
   "metadata": {},
   "source": [
    "### Example 4. Collecting user feedback"
   ]
  },
  {
   "cell_type": "code",
   "execution_count": 14,
   "metadata": {},
   "outputs": [
    {
     "name": "stdout",
     "output_type": "stream",
     "text": [
      "No of positive feedbacks 2\n",
      "\n",
      " Feedbacks\n",
      "- great service\n",
      "- very satisfied\n",
      "- could be better\n",
      "- excellent experience\n",
      "- not happy\n"
     ]
    }
   ],
   "source": [
    "feedback = [\"great service\", \"very satisfied\", \"could be better\", \"excellent experience\"]\n",
    "feedback.append(\"not happy\")\n",
    "pos_feedback_cnt = sum(1 for commnt in feedback if \"excellent\" in commnt.lower() or \"great\" in commnt.lower())\n",
    "print(\"No of positive feedbacks\", pos_feedback_cnt)\n",
    "print(\"\\n Feedbacks\")\n",
    "for commnt in feedback:\n",
    "    print(f\"- {commnt}\")"
   ]
  },
  {
   "cell_type": "markdown",
   "metadata": {},
   "source": [
    "#### Notes\n",
    "##### In Python, non-empty strings evaluate to True when used in a boolean context. \n"
   ]
  },
  {
   "cell_type": "code",
   "execution_count": 17,
   "metadata": {},
   "outputs": [
    {
     "data": {
      "text/plain": [
       "5"
      ]
     },
     "execution_count": 17,
     "metadata": {},
     "output_type": "execute_result"
    }
   ],
   "source": [
    "pos_feedback_cnt = sum(1 for commnt in feedback if \"excellent\" or \"great\" in commnt.lower())\n",
    "pos_feedback_cnt"
   ]
  },
  {
   "cell_type": "markdown",
   "metadata": {},
   "source": [
    "you can see if commnt.lower() condition is not given with excellent the count is 5, because as it is non-empty string in boolean ittakes as True."
   ]
  },
  {
   "cell_type": "markdown",
   "metadata": {},
   "source": [
    "#### Usage of generator expression over List comprehension"
   ]
  },
  {
   "cell_type": "code",
   "execution_count": 18,
   "metadata": {},
   "outputs": [
    {
     "name": "stdout",
     "output_type": "stream",
     "text": [
      "[0, 1, 4, 9, 16, 25, 36, 49, 64, 81]\n",
      "<generator object <genexpr> at 0x7f4518856190>\n",
      "[0, 1, 4, 9, 16, 25, 36, 49, 64, 81]\n"
     ]
    }
   ],
   "source": [
    "## using list comprehension\n",
    "squares = [x**2 for x in range(10)]\n",
    "print(squares)\n",
    "\n",
    "squares_gen = (x**2 for x in range(10))\n",
    "print(squares_gen)  # Output: <generator object <genexpr> at 0x...>\n",
    "print(list(squares_gen))\n"
   ]
  },
  {
   "cell_type": "markdown",
   "metadata": {},
   "source": [
    "both give same answer, but generator expression is more memory effircient.It does not store all values in memory; instead, it generates each value on the fly when iterated over"
   ]
  },
  {
   "cell_type": "markdown",
   "metadata": {},
   "source": [
    "#### Example with any()"
   ]
  },
  {
   "cell_type": "code",
   "execution_count": 19,
   "metadata": {},
   "outputs": [
    {
     "name": "stdout",
     "output_type": "stream",
     "text": [
      "True\n"
     ]
    }
   ],
   "source": [
    "numbers = [1, 2, 3, 0, 4]\n",
    "\n",
    "# Using list comprehension\n",
    "result = any([x == 0 for x in numbers])\n",
    "print(result)  # Output: True"
   ]
  },
  {
   "cell_type": "code",
   "execution_count": 20,
   "metadata": {},
   "outputs": [
    {
     "name": "stdout",
     "output_type": "stream",
     "text": [
      "True\n"
     ]
    }
   ],
   "source": [
    "numbers = [1, 2, 3, 0, 4]\n",
    "\n",
    "# Using generator expression\n",
    "result = any(x == 0 for x in numbers)\n",
    "print(result)  # Output: True"
   ]
  },
  {
   "cell_type": "markdown",
   "metadata": {},
   "source": [
    "In both cases, __any()__ returns __True__ as soon as it encounters 0. However, the generator expression stops evaluating as soon as the condition is met, whereas the list comprehension would create the entire list of boolean values before passing it to __any()__. This makes the generator expression potentially more efficient in this scenario."
   ]
  },
  {
   "cell_type": "markdown",
   "metadata": {},
   "source": [
    "#### Key Differences\n",
    "\n",
    "##### Memory Usage:\n",
    "- List Comprehension: Creates and stores a list in memory, which can be inefficient for large datasets.\n",
    "- Generator Expression: Does not create a list; instead, it generates values on the fly, which is more memory-efficient.\n",
    "\n",
    "##### Performance:\n",
    "- List Comprehension: The entire list is generated before the function operates on it.\n",
    "- Generator Expression: Values are generated as needed, which can be faster if not all values are required or if the operation can be short-circuited (e.g., any() finding True value early).\n",
    "\n",
    "##### Use Cases:\n",
    "- list Comprehension: Useful when the entire list of results is needed later.\n",
    "- Generator Expression: Ideal for large datasets or when the results are consumed immediately and only once."
   ]
  },
  {
   "cell_type": "markdown",
   "metadata": {},
   "source": []
  }
 ],
 "metadata": {
  "kernelspec": {
   "display_name": ".genaivenv",
   "language": "python",
   "name": "python3"
  },
  "language_info": {
   "codemirror_mode": {
    "name": "ipython",
    "version": 3
   },
   "file_extension": ".py",
   "mimetype": "text/x-python",
   "name": "python",
   "nbconvert_exporter": "python",
   "pygments_lexer": "ipython3",
   "version": "3.12.4"
  }
 },
 "nbformat": 4,
 "nbformat_minor": 2
}
