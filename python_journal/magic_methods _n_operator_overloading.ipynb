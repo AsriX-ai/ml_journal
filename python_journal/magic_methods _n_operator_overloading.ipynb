{
 "cells": [
  {
   "cell_type": "markdown",
   "metadata": {},
   "source": [
    "### Magic Methods In Python\n",
    "### Index\n",
    "- [Dunder Methods or Magic Methods](#dunder-methods-or-magic-methods)\n",
    "- [Operator Overloading](#operator-overloading)\n"
   ]
  },
  {
   "cell_type": "markdown",
   "metadata": {},
   "source": [
    "### Dunder Methods or Magic Methods\n",
    "- Magic methods in Python, also known as dunder methods (double underscore methods), are special methods that start and end with double underscores. \n",
    "- These enable you to define the behavior of the objects for built-in operations, such as arithmetic operations, comparisons and more.\n",
    "- are predefined methods in Python that can override to change the behaviour of your objects.\n",
    "- some common magic methods include: <br>\n",
    "       -  **\\_\\_init\\_\\_** : Initializes a new instance of a class<br>\n",
    "       - **\\_\\_str\\_\\_** : Returns a string represenattion of an object<br>\n",
    "       - **\\_\\_repr\\_\\_** : Returns an ofiicial string represenattion of an object<br>\n",
    "       - **\\_\\_len\\_\\_** : Returns the length of an object<br>\n",
    "       - **\\_\\_getitem\\_\\_** : Gets an item from a container<br>\n",
    "       - **\\_\\_setitem\\_\\_** : Sets an item from a container<br>"
   ]
  },
  {
   "cell_type": "code",
   "execution_count": 1,
   "metadata": {},
   "outputs": [
    {
     "data": {
      "text/plain": [
       "['__class__',\n",
       " '__delattr__',\n",
       " '__dict__',\n",
       " '__dir__',\n",
       " '__doc__',\n",
       " '__eq__',\n",
       " '__format__',\n",
       " '__ge__',\n",
       " '__getattribute__',\n",
       " '__getstate__',\n",
       " '__gt__',\n",
       " '__hash__',\n",
       " '__init__',\n",
       " '__init_subclass__',\n",
       " '__le__',\n",
       " '__lt__',\n",
       " '__module__',\n",
       " '__ne__',\n",
       " '__new__',\n",
       " '__reduce__',\n",
       " '__reduce_ex__',\n",
       " '__repr__',\n",
       " '__setattr__',\n",
       " '__sizeof__',\n",
       " '__str__',\n",
       " '__subclasshook__',\n",
       " '__weakref__']"
      ]
     },
     "execution_count": 1,
     "metadata": {},
     "output_type": "execute_result"
    }
   ],
   "source": [
    "class Person:\n",
    "    pass\n",
    "\n",
    "person = Person()\n",
    "dir(person)"
   ]
  },
  {
   "cell_type": "markdown",
   "metadata": {},
   "source": [
    "out of dir(person) are known as magic methods"
   ]
  },
  {
   "cell_type": "code",
   "execution_count": 2,
   "metadata": {},
   "outputs": [
    {
     "name": "stdout",
     "output_type": "stream",
     "text": [
      "<__main__.Person object at 0x7fcbf8dff7a0>\n"
     ]
    }
   ],
   "source": [
    "print(person)"
   ]
  },
  {
   "cell_type": "markdown",
   "metadata": {},
   "source": [
    "this message < \\_\\_main\\_\\_ .Person object at 0x7fcbf8dff7a0> is displayed from **\\_\\_str\\_\\_**, we can also override this specific method "
   ]
  },
  {
   "cell_type": "code",
   "execution_count": 3,
   "metadata": {},
   "outputs": [],
   "source": [
    "# basic methods\n",
    "class Person:\n",
    "    def __init__(self, name, age):\n",
    "        self.name = name\n",
    "        self.age = age"
   ]
  },
  {
   "cell_type": "code",
   "execution_count": 4,
   "metadata": {},
   "outputs": [
    {
     "name": "stdout",
     "output_type": "stream",
     "text": [
      "<__main__.Person object at 0x7fcbf8e3c890>\n"
     ]
    }
   ],
   "source": [
    "person = Person(\"ruks\", 28)\n",
    "print(person)"
   ]
  },
  {
   "cell_type": "markdown",
   "metadata": {},
   "source": [
    "we can override this"
   ]
  },
  {
   "cell_type": "code",
   "execution_count": 9,
   "metadata": {},
   "outputs": [],
   "source": [
    "# basic methods\n",
    "class Person:\n",
    "    def __init__(self, name, age):\n",
    "        self.name = name\n",
    "        self.age = age\n",
    "    \n",
    "    def __str__(self):\n",
    "        return f\"{self.name}, {self.age} years old\"\n",
    "    \n",
    "    def __repr__(self):\n",
    "        return f\"Person (name = {self.name}, age = {self.age})\""
   ]
  },
  {
   "cell_type": "code",
   "execution_count": 10,
   "metadata": {},
   "outputs": [
    {
     "name": "stdout",
     "output_type": "stream",
     "text": [
      "ruks, 28 years old\n",
      "Person (name = ruks, age = 28)\n"
     ]
    }
   ],
   "source": [
    "person = Person(\"ruks\", 28)\n",
    "print(person)\n",
    "print(repr(person))"
   ]
  },
  {
   "cell_type": "markdown",
   "metadata": {},
   "source": [
    "so now the str is overridden with the custom "
   ]
  },
  {
   "cell_type": "markdown",
   "metadata": {},
   "source": [
    "### Operator Overloading\n",
    "It allows you to define the behavior of operators (+, -, *, etc.) for custom objects. WE can achieve this by overriding specific magic methods in your class.\n",
    "- some operator overloading magic methods include: <br>\n",
    "       -  **\\_\\_add\\_\\_** : Add two objects using the + operator<br>\n",
    "       - **\\_\\_sub\\_\\_** : Subtract two objects using the - operator<br>\n",
    "       - **\\_\\_mul\\_\\_** : Multiplies two objects using the * operator<br>\n",
    "       - **\\_\\_truediv\\_\\_** : Divides two objects using the / operator<br>\n",
    "       - **\\_\\_eq\\_\\_** : Check if two objects are equal using the == operator<br>\n",
    "       - **\\_\\_lt\\_\\_** : Check if one object is less than another using the < operator<br>\n",
    "       - **\\_\\_gt\\_\\_** : Check if one object is greater than another using the > operator<br>"
   ]
  },
  {
   "cell_type": "code",
   "execution_count": 8,
   "metadata": {},
   "outputs": [],
   "source": [
    "class Vector:\n",
    "    def __init__(self, x, y):\n",
    "        self.x = x\n",
    "        self.y = y\n",
    "\n",
    "    def __add__(self, other):\n",
    "        return Vector(self.x + other.x, self.y + other.y)\n",
    "    \n",
    "    def __sub__(self, other):\n",
    "        return Vector(self.x - other.x, self.y - other.y)\n",
    "    \n",
    "    def __mul__(self, other):\n",
    "        return Vector(self.x * other.x, self.y * other.y)\n",
    "    \n",
    "    def __eq__(self, other):\n",
    "        return Vector(self.x == other.x, self.y == other.y)\n",
    "    \n",
    "    def __repr__(self):\n",
    "        return f\"Vector({self.x}, {self.y})\"\n",
    "    \n"
   ]
  },
  {
   "cell_type": "code",
   "execution_count": 9,
   "metadata": {},
   "outputs": [],
   "source": [
    "v1 = Vector(2,3)\n",
    "v2 = Vector(4,5)"
   ]
  },
  {
   "cell_type": "code",
   "execution_count": 11,
   "metadata": {},
   "outputs": [
    {
     "name": "stdout",
     "output_type": "stream",
     "text": [
      "Vector(6, 8)\n",
      "Vector(-2, -2)\n",
      "Vector(8, 15)\n",
      "Vector(False, False)\n",
      "Vector(2, 3)\n",
      "Vector(4, 5)\n"
     ]
    }
   ],
   "source": [
    "print(v1 + v2)\n",
    "print(v1 - v2)\n",
    "print(v1 * v2)\n",
    "print(v1 == v2)\n",
    "print(repr(v1))\n",
    "print(repr(v2))"
   ]
  },
  {
   "cell_type": "code",
   "execution_count": 12,
   "metadata": {},
   "outputs": [],
   "source": [
    "### Overloading operators for complex numbers\n",
    "class ComplexNumbers:\n",
    "    def __init__(self, real, img):\n",
    "        self.real = real\n",
    "        self.img = img\n",
    "\n",
    "    def __add__(self, other):\n",
    "        return ComplexNumbers(self.real + other.real, self.img + other.img)\n",
    "    \n",
    "    def __sub__(self, other):\n",
    "        return ComplexNumbers(self.real - other.real, self.img - other.img)\n",
    "    \n",
    "    def __mul__(self, other):\n",
    "        real_part = self.real * other.real - self.img * other.img\n",
    "        img_part = self.real * other.img + self.img * other.real\n",
    "        return ComplexNumbers(real_part, img_part)\n",
    "    \n",
    "    def __truediv__(self, other):\n",
    "        denominator = other.real**2 + other.img**2\n",
    "        real_part = (self.real*other.real + self.img * other.img) / denominator\n",
    "        img_part = (self.img * other.real - self.img*other.img)/denominator\n",
    "        return ComplexNumbers(real_part, img_part)\n",
    "    \n",
    "    def __eq__(self, other):\n",
    "        return self.real == other.real and  self.img == other.img\n",
    "    \n",
    "    def __repr__(self):\n",
    "        return f\"{self.real}{'+' if self.img >=0 else '-'}{abs(self.img)} i\"\n",
    "    "
   ]
  },
  {
   "cell_type": "code",
   "execution_count": 13,
   "metadata": {},
   "outputs": [
    {
     "name": "stdout",
     "output_type": "stream",
     "text": [
      "3+7 i\n",
      "1-1 i\n",
      "-10+11 i\n",
      "0.8235294117647058-0.5294117647058824 i\n",
      "False\n"
     ]
    }
   ],
   "source": [
    "c1 = ComplexNumbers(2,3)\n",
    "c2 = ComplexNumbers(1,4)\n",
    "\n",
    "print(c1 + c2)\n",
    "print(c1 - c2)\n",
    "print(c1 * c2)\n",
    "print(c1 / c2)\n",
    "print(c1 == c2)"
   ]
  },
  {
   "cell_type": "code",
   "execution_count": null,
   "metadata": {},
   "outputs": [],
   "source": []
  }
 ],
 "metadata": {
  "kernelspec": {
   "display_name": ".genaivenv",
   "language": "python",
   "name": "python3"
  },
  "language_info": {
   "codemirror_mode": {
    "name": "ipython",
    "version": 3
   },
   "file_extension": ".py",
   "mimetype": "text/x-python",
   "name": "python",
   "nbconvert_exporter": "python",
   "pygments_lexer": "ipython3",
   "version": "3.12.4"
  }
 },
 "nbformat": 4,
 "nbformat_minor": 2
}
