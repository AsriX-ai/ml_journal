{
 "cells": [
  {
   "cell_type": "markdown",
   "metadata": {},
   "source": [
    "## Functions\n",
    "### Index\n",
    "- [Introduction to Functions](#introduction-to-functions)\n",
    "- [why function?](#why-function)\n",
    "- [Default parameter](#default-parameter)\n",
    "- [Variable Length Arguments](#variable-length-arguments)\n",
    "    - [Positional Arguments](#positional-arguments)\n",
    "    - [Keyword arguments](#keyword-arguments)\n",
    "- [Return statements](#return-statements)\n",
    "- [Python Examples](#python-examples)\n",
    "    - [Temperature conversion](#example-1-temperature-conversion)\n",
    "    - [Password strength checker](#example-2-password-strength-checker)\n",
    "    - [Total cost ot items in shopping cart](#example-3-total-cost-ot-items-in-shopping-cart)\n",
    "    - [Check if string is Palindrome](#example-4-check-if-string-is-palindrome)\n",
    "    - [Factorial using recursion](#example-5-factorial-using-recursion)\n",
    "    - [Read a file and count freq of each word](#example-6-read-a-file-and-count-freq-of-each-word)\n",
    "    - [Validate Email Address](#example-7-validate-email-address)\n",
    "- [Lambda Functions in Python](#lambda-functions-in-python)\n",
    "    - [Power of lambda function with map and filter](#power-of-lambda-function-with-map-and-filter)\n",
    "- [The map() function in Python](#the-map-function-in-python)\n",
    "    - [can we map multiple iterables?](#can-we-map-multiple-iterables)\n",
    "    - [map() to convert a list of string to integers (typecasting)](#map-to-convert-a-list-of-string-to-integers-typecasting)\n",
    "    - [inbuild functions with map()](#inbuild-functions-with-map)\n",
    "    - [map() with list of dictionary](#map-with-list-of-dictionary)\n",
    "- [The filter() function in Python](#the-filter-function-in-python)\n",
    "    - [filter() with lambda function](#filter-with-lambda-function)\n",
    "    - [filter with a lambda function and multiple conditions](#filter-with-a-lambda-function-and-multiple-conditions)\n",
    "    - [applying filter() in dictionary](#applying-filter-in-dictionary)"
   ]
  },
  {
   "cell_type": "markdown",
   "metadata": {},
   "source": [
    "### Introduction to Functions\n",
    "Definition:\n",
    "- A function is a block of code that performs a specific task. \n",
    "- for organising code, reusing code, and improving readability"
   ]
  },
  {
   "cell_type": "code",
   "execution_count": 1,
   "metadata": {},
   "outputs": [],
   "source": [
    "##syntax\n",
    "def function_name(parameters):\n",
    "    \"\"\"Docstring\"\"\"\n",
    "    #function body\n",
    "    return expression\n"
   ]
  },
  {
   "cell_type": "markdown",
   "metadata": {},
   "source": [
    "#### why function?\n"
   ]
  },
  {
   "cell_type": "code",
   "execution_count": 2,
   "metadata": {},
   "outputs": [
    {
     "name": "stdout",
     "output_type": "stream",
     "text": [
      "even\n"
     ]
    }
   ],
   "source": [
    "## why function?\n",
    "num = 24\n",
    "if num%2==0:\n",
    "    print(\"even\")\n",
    "else:\n",
    "    print(\"odd\")"
   ]
  },
  {
   "cell_type": "markdown",
   "metadata": {},
   "source": [
    "we need to write the same piece of code every where, instead of that we can write this piece of code in a function, and reuse"
   ]
  },
  {
   "cell_type": "code",
   "execution_count": 3,
   "metadata": {},
   "outputs": [],
   "source": [
    "def even_or_odd(number):\n",
    "    if number%2 ==0:\n",
    "        print(f\"{number} - even\")\n",
    "    else:\n",
    "        print(f\"{number} - odd\")"
   ]
  },
  {
   "cell_type": "code",
   "execution_count": 4,
   "metadata": {},
   "outputs": [
    {
     "name": "stdout",
     "output_type": "stream",
     "text": [
      "34 - even\n"
     ]
    }
   ],
   "source": [
    "## call this function\n",
    "even_or_odd(34)"
   ]
  },
  {
   "cell_type": "code",
   "execution_count": 6,
   "metadata": {},
   "outputs": [
    {
     "name": "stdout",
     "output_type": "stream",
     "text": [
      "57 - odd\n"
     ]
    }
   ],
   "source": [
    "user_num = int(input(\"Enter your number\"))\n",
    "even_or_odd(user_num)"
   ]
  },
  {
   "cell_type": "markdown",
   "metadata": {},
   "source": [
    "#### Functions with multiple parameters"
   ]
  },
  {
   "cell_type": "code",
   "execution_count": 7,
   "metadata": {},
   "outputs": [],
   "source": [
    "def add(a,b):\n",
    "    return a+b"
   ]
  },
  {
   "cell_type": "code",
   "execution_count": 9,
   "metadata": {},
   "outputs": [
    {
     "data": {
      "text/plain": [
       "6"
      ]
     },
     "execution_count": 9,
     "metadata": {},
     "output_type": "execute_result"
    }
   ],
   "source": [
    "result = add(2,4)\n",
    "result"
   ]
  },
  {
   "cell_type": "markdown",
   "metadata": {},
   "source": [
    "#### Default parameter"
   ]
  },
  {
   "cell_type": "code",
   "execution_count": 10,
   "metadata": {},
   "outputs": [
    {
     "name": "stdout",
     "output_type": "stream",
     "text": [
      "Hello Guest\n"
     ]
    }
   ],
   "source": [
    "## default parameter\n",
    "def greet(name=\"Guest\"):\n",
    "    print(f\"Hello {name}\")\n",
    "greet()"
   ]
  },
  {
   "cell_type": "code",
   "execution_count": 11,
   "metadata": {},
   "outputs": [
    {
     "name": "stdout",
     "output_type": "stream",
     "text": [
      "Hello ruksin\n"
     ]
    }
   ],
   "source": [
    "greet(name=\"ruksin\")"
   ]
  },
  {
   "cell_type": "markdown",
   "metadata": {},
   "source": [
    "#### Variable Length Arguments\n",
    "#### Positional Arguments\n",
    "- instead of giving all parameters name, give simple positional argument, *args(can be another name instead of args, but args is widely accepted)\n",
    "- parameters will be referenced by *args"
   ]
  },
  {
   "cell_type": "code",
   "execution_count": 16,
   "metadata": {},
   "outputs": [],
   "source": [
    "# positional arguments\n",
    "# lets say i have many parameters eg:num1, num2, num3, etc..., instead of giving all parameters name, give simple positional argument, *args(can be another name instead of args, but args is widely accepted)\n",
    "def print_numbers(*args):\n",
    "    for number in args:\n",
    "        print(number)"
   ]
  },
  {
   "cell_type": "code",
   "execution_count": 17,
   "metadata": {},
   "outputs": [
    {
     "name": "stdout",
     "output_type": "stream",
     "text": [
      "1\n",
      "2\n",
      "3\n",
      "4\n",
      "5\n",
      "hello\n"
     ]
    }
   ],
   "source": [
    "# giving many postional arguments\n",
    "print_numbers(1,2,3,4,5,\"hello\")\n",
    "# these parameters will be referenced by *args"
   ]
  },
  {
   "cell_type": "markdown",
   "metadata": {},
   "source": [
    "#### keyword arguments\n",
    "- given by **kwargs(widely accepted)(kwargs- keyword positional arguments)\n",
    "- here all parameters will ne in form of key value pairs\n",
    "- means accessing as if it is dictionary"
   ]
  },
  {
   "cell_type": "code",
   "execution_count": 18,
   "metadata": {},
   "outputs": [],
   "source": [
    "# keyword arguments\n",
    "# given by **kwargs(widely accepted)(kwargs- keyword positional arguments)\n",
    "def print_details(**kwargs):\n",
    "    for key, values in kwargs.items():\n",
    "        print(f\"{key}:{values}\")"
   ]
  },
  {
   "cell_type": "code",
   "execution_count": 19,
   "metadata": {},
   "outputs": [
    {
     "name": "stdout",
     "output_type": "stream",
     "text": [
      "name:ruksin\n",
      "age:28\n",
      "country:India\n"
     ]
    }
   ],
   "source": [
    "print_details(name=\"ruksin\", age=\"28\", country=\"India\")"
   ]
  },
  {
   "cell_type": "markdown",
   "metadata": {},
   "source": [
    "So if my all parameters are in key-value pair, then all these parameters will be referenced by __**kwargs__, if only parameters are given without key, then it will be positional arguments, __*args__"
   ]
  },
  {
   "cell_type": "markdown",
   "metadata": {},
   "source": [
    "- positional arguments cannot appear before keyword arguments\n",
    "- means we need to give alll positional argument first and then the keyword arguments if using both"
   ]
  },
  {
   "cell_type": "code",
   "execution_count": 24,
   "metadata": {},
   "outputs": [],
   "source": [
    "def print_details_combined(*args, **kwargs):\n",
    "    for val in args:\n",
    "        print(f\"POsitional argument {val}\")\n",
    "    \n",
    "    for key, value in kwargs.items():\n",
    "        print(f\"{key}:{value}\")"
   ]
  },
  {
   "cell_type": "code",
   "execution_count": 25,
   "metadata": {},
   "outputs": [
    {
     "name": "stdout",
     "output_type": "stream",
     "text": [
      "POsitional argument 1\n",
      "POsitional argument 2\n",
      "POsitional argument 3\n",
      "POsitional argument 4\n",
      "POsitional argument hi\n"
     ]
    }
   ],
   "source": [
    "print_details_combined(1,2,3,4,\"hi\")"
   ]
  },
  {
   "cell_type": "code",
   "execution_count": 26,
   "metadata": {},
   "outputs": [
    {
     "name": "stdout",
     "output_type": "stream",
     "text": [
      "POsitional argument 1\n",
      "POsitional argument 2\n",
      "POsitional argument 3\n",
      "POsitional argument 4\n",
      "POsitional argument hi\n",
      "name:ruksin\n",
      "age:28\n",
      "country:India\n"
     ]
    }
   ],
   "source": [
    "print_details_combined(1,2,3,4,\"hi\", name=\"ruksin\", age=\"28\", country=\"India\")"
   ]
  },
  {
   "cell_type": "markdown",
   "metadata": {},
   "source": [
    "#### Return statements"
   ]
  },
  {
   "cell_type": "code",
   "execution_count": 27,
   "metadata": {},
   "outputs": [
    {
     "data": {
      "text/plain": [
       "6"
      ]
     },
     "execution_count": 27,
     "metadata": {},
     "output_type": "execute_result"
    }
   ],
   "source": [
    "def multiply(a,b):\n",
    "    return a*b\n",
    "multiply(2,3)"
   ]
  },
  {
   "cell_type": "code",
   "execution_count": 28,
   "metadata": {},
   "outputs": [
    {
     "data": {
      "text/plain": [
       "(6, 2)"
      ]
     },
     "execution_count": 28,
     "metadata": {},
     "output_type": "execute_result"
    }
   ],
   "source": [
    "# also we can return multiple parameters from function\n",
    "def multiply(a,b):\n",
    "    return a*b, a\n",
    "multiply(2,3)"
   ]
  },
  {
   "cell_type": "markdown",
   "metadata": {},
   "source": [
    "### Python Examples\n",
    "#### Example 1. Temperature conversion"
   ]
  },
  {
   "cell_type": "code",
   "execution_count": 29,
   "metadata": {},
   "outputs": [],
   "source": [
    "def convert_temperature(temp, unit):\n",
    "    \"\"\"\"Converts temperature between celsius and fahrenheit\"\"\"\n",
    "    if unit=='C': #celsius to fahrenheit\n",
    "        return temp * 9/5 +32\n",
    "    elif unit =='F':\n",
    "        return (temp-32) * 5/9\n",
    "    else:\n",
    "        return None"
   ]
  },
  {
   "cell_type": "code",
   "execution_count": 31,
   "metadata": {},
   "outputs": [
    {
     "data": {
      "text/plain": [
       "80.6"
      ]
     },
     "execution_count": 31,
     "metadata": {},
     "output_type": "execute_result"
    }
   ],
   "source": [
    "convert_temperature(27, 'C')\n"
   ]
  },
  {
   "cell_type": "markdown",
   "metadata": {},
   "source": [
    "#### Example 2. Password strength checker"
   ]
  },
  {
   "cell_type": "code",
   "execution_count": 36,
   "metadata": {},
   "outputs": [],
   "source": [
    "def is_strong_password(password):\n",
    "    msg = \"Strong password\"\n",
    "    if len(password)<8:\n",
    "        msg = \"should be more than 8 characters\"\n",
    "        return False, msg\n",
    "    if not any(character.isdigit() for character in password):\n",
    "        msg = \"atleast a digit should be present\"\n",
    "        return False , msg\n",
    "    if not any(character.islower() for character in password):\n",
    "        msg = \"atleast one char should be in lowercase\"\n",
    "        return False, msg\n",
    "    if not any(character.isupper() for character in password):\n",
    "        msg = \"atleast one char should be in uppercase\"\n",
    "        return False, msg\n",
    "    if not any(character in '@#$%^&*()!+=' for character in password):\n",
    "        msg = \"a special character @#$%^&*()!+= is needed\"\n",
    "        return False, msg\n",
    "    return True, msg"
   ]
  },
  {
   "cell_type": "code",
   "execution_count": 43,
   "metadata": {},
   "outputs": [
    {
     "name": "stdout",
     "output_type": "stream",
     "text": [
      "(False, 'should be more than 8 characters')\n",
      "(False, 'atleast a digit should be present')\n",
      "(False, 'atleast one char should be in uppercase')\n",
      "(False, 'a special character @#$%^&*()!+= is needed')\n",
      "(True, 'Strong password')\n"
     ]
    }
   ],
   "source": [
    "print(is_strong_password(\"helllo\"))\n",
    "print(is_strong_password(\"Hellloruksin\"))\n",
    "print(is_strong_password(\"hellloruksin4\"))\n",
    "print(is_strong_password(\"Hellloruksin7\"))\n",
    "print(is_strong_password(\"StrnGPaswrd#3\"))"
   ]
  },
  {
   "cell_type": "markdown",
   "metadata": {},
   "source": [
    "#### Example 3. Total cost ot items in shopping cart"
   ]
  },
  {
   "cell_type": "code",
   "execution_count": 44,
   "metadata": {},
   "outputs": [
    {
     "name": "stdout",
     "output_type": "stream",
     "text": [
      "236\n"
     ]
    }
   ],
   "source": [
    "def calculate_total_cost(cart):\n",
    "    total_cost =0\n",
    "    for item in cart:\n",
    "        total_cost += item['price']\n",
    "    return total_cost\n",
    "\n",
    "\n",
    "cart = [\n",
    "    {\"name\":'apple', 'price': 50, 'quantity': 4},\n",
    "    {\"name\":'avocado', 'price': 106, 'quantity': 2},\n",
    "    {\"name\":'orange', 'price': 80, 'quantity': 10}\n",
    "]\n",
    "\n",
    "total_cost = calculate_total_cost(cart)\n",
    "print(total_cost)"
   ]
  },
  {
   "cell_type": "markdown",
   "metadata": {},
   "source": [
    "#### Example 4. Check if string is Palindrome"
   ]
  },
  {
   "cell_type": "code",
   "execution_count": 45,
   "metadata": {},
   "outputs": [
    {
     "name": "stdout",
     "output_type": "stream",
     "text": [
      "True\n",
      "True\n",
      "False\n"
     ]
    }
   ],
   "source": [
    "def is_palindrome(sentence):\n",
    "    sentence = sentence.lower().replace(' ', \"\")\n",
    "    return sentence==sentence[::-1]\n",
    "\n",
    "print(is_palindrome(\"A man a plan a canal Panama\"))\n",
    "print(is_palindrome(\"malayalam\"))\n",
    "print(is_palindrome(\"hello user\"))"
   ]
  },
  {
   "cell_type": "markdown",
   "metadata": {},
   "source": [
    "#### Example 5. Factorial using recursion"
   ]
  },
  {
   "cell_type": "code",
   "execution_count": 46,
   "metadata": {},
   "outputs": [],
   "source": [
    "def factorial(n):\n",
    "    if n==0:\n",
    "        return 1\n",
    "    else:\n",
    "        return n* factorial(n-1)"
   ]
  },
  {
   "cell_type": "code",
   "execution_count": 47,
   "metadata": {},
   "outputs": [
    {
     "data": {
      "text/plain": [
       "120"
      ]
     },
     "execution_count": 47,
     "metadata": {},
     "output_type": "execute_result"
    }
   ],
   "source": [
    "factorial(5)"
   ]
  },
  {
   "cell_type": "markdown",
   "metadata": {},
   "source": [
    "#### Example 6. Read a file and count freq of each word"
   ]
  },
  {
   "cell_type": "code",
   "execution_count": 50,
   "metadata": {},
   "outputs": [
    {
     "name": "stdout",
     "output_type": "stream",
     "text": [
      "{'hello': 1, 'user,': 1, 'how': 1, 'are': 1, 'you?': 1, 'my': 1, 'name': 1, 'is': 1, 'ruksin.,': 1, 'hi': 1, 'user': 1}\n"
     ]
    }
   ],
   "source": [
    "def count_word_freq(file_path):\n",
    "    word_count = {}\n",
    "    with open (file_path, 'r') as f:\n",
    "        for line in f:\n",
    "            words = line.split()\n",
    "            for word in words:\n",
    "                word = word.lower().strip('@!#$%^&*()\"')\n",
    "                word_count[word] = word_count.get(word, 0) + 1\n",
    "\n",
    "    return word_count\n",
    "\n",
    "filepath = 'sample.txt'\n",
    "cnt = count_word_freq(filepath)\n",
    "print(cnt)"
   ]
  },
  {
   "cell_type": "markdown",
   "metadata": {},
   "source": [
    "#### Example 7. Validate Email Address"
   ]
  },
  {
   "cell_type": "code",
   "execution_count": 51,
   "metadata": {},
   "outputs": [],
   "source": [
    "import re\n",
    "def validate_email(email):\n",
    "    pattern = r'^[A-Za-z0-9%^&*#!.]+@+[A-Za-z0-9]+.[a-z]+$'\n",
    "    return re.match(pattern, email) is not None"
   ]
  },
  {
   "cell_type": "code",
   "execution_count": 53,
   "metadata": {},
   "outputs": [
    {
     "name": "stdout",
     "output_type": "stream",
     "text": [
      "True\n",
      "False\n"
     ]
    }
   ],
   "source": [
    "print(validate_email(\"ruksin.k@thinkpalm.com\"))\n",
    "print(validate_email(\"dtywdhv8od7du2.skndyt@jnsbu.2sdcvu\"))"
   ]
  },
  {
   "cell_type": "markdown",
   "metadata": {},
   "source": [
    "### Lambda Functions in Python\n",
    "- small anonymous function(function without name) using the __lambda__ keyword.\n",
    "- can have any no of arguments, but only one expression"
   ]
  },
  {
   "cell_type": "code",
   "execution_count": 54,
   "metadata": {},
   "outputs": [
    {
     "data": {
      "text/plain": [
       "<function __main__.<lambda>(arguments)>"
      ]
     },
     "execution_count": 54,
     "metadata": {},
     "output_type": "execute_result"
    }
   ],
   "source": [
    "#syntax\n",
    "lambda arguments: expression"
   ]
  },
  {
   "cell_type": "code",
   "execution_count": 55,
   "metadata": {},
   "outputs": [],
   "source": [
    "def addition(a,b):\n",
    "    return a+b"
   ]
  },
  {
   "cell_type": "markdown",
   "metadata": {},
   "source": [
    "this is just a basic function, with only one expression. if only one expression is there then __lambda__ can be used"
   ]
  },
  {
   "cell_type": "code",
   "execution_count": 56,
   "metadata": {},
   "outputs": [
    {
     "data": {
      "text/plain": [
       "5"
      ]
     },
     "execution_count": 56,
     "metadata": {},
     "output_type": "execute_result"
    }
   ],
   "source": [
    "addition(2,3)"
   ]
  },
  {
   "cell_type": "code",
   "execution_count": 58,
   "metadata": {},
   "outputs": [
    {
     "name": "stdout",
     "output_type": "stream",
     "text": [
      "<class 'function'>\n",
      "11\n"
     ]
    }
   ],
   "source": [
    "# converting to lambda\n",
    "addition_lam = lambda a,b:a+b\n",
    "print(type(addition_lam))\n",
    "print(addition_lam(5,6))"
   ]
  },
  {
   "cell_type": "code",
   "execution_count": 59,
   "metadata": {},
   "outputs": [
    {
     "data": {
      "text/plain": [
       "True"
      ]
     },
     "execution_count": 59,
     "metadata": {},
     "output_type": "execute_result"
    }
   ],
   "source": [
    "def even(num):\n",
    "    if num%2==0:\n",
    "        return True\n",
    "\n",
    "even(24)"
   ]
  },
  {
   "cell_type": "code",
   "execution_count": 60,
   "metadata": {},
   "outputs": [
    {
     "name": "stdout",
     "output_type": "stream",
     "text": [
      "True\n"
     ]
    }
   ],
   "source": [
    "#to lambda\n",
    "even1 = lambda num:num%2==0\n",
    "print(even1(78))"
   ]
  },
  {
   "cell_type": "code",
   "execution_count": 61,
   "metadata": {},
   "outputs": [
    {
     "data": {
      "text/plain": [
       "10"
      ]
     },
     "execution_count": 61,
     "metadata": {},
     "output_type": "execute_result"
    }
   ],
   "source": [
    "## multiple parameters\n",
    "def addition(x,y,z):\n",
    "    return x+y+z\n",
    "\n",
    "addition(2,3,5)"
   ]
  },
  {
   "cell_type": "code",
   "execution_count": 62,
   "metadata": {},
   "outputs": [
    {
     "name": "stdout",
     "output_type": "stream",
     "text": [
      "9\n"
     ]
    }
   ],
   "source": [
    "# to lambda\n",
    "addition1 = lambda x,y,z:x+y+z\n",
    "print(addition1(2,3,4))"
   ]
  },
  {
   "cell_type": "markdown",
   "metadata": {},
   "source": [
    "### Power of lambda function with map and filter\n",
    "### The map() function in Python"
   ]
  },
  {
   "cell_type": "code",
   "execution_count": 1,
   "metadata": {},
   "outputs": [
    {
     "data": {
      "text/plain": [
       "4"
      ]
     },
     "execution_count": 1,
     "metadata": {},
     "output_type": "execute_result"
    }
   ],
   "source": [
    "## map()\n",
    "numbers = [1,2,3,4,5,6]\n",
    "\n",
    "def square_nos(num):\n",
    "    return num**2\n",
    "\n",
    "square_nos(2)"
   ]
  },
  {
   "cell_type": "markdown",
   "metadata": {},
   "source": [
    "if i have more than one number, we will loop over the numbers, and do the same operation and return, instead of this the better way is map function.\n",
    "- __map__ function applies a function to all items in a list\n",
    "- first parameter in __map__ is a function, second parameter is iterables\n",
    "- map uses lazy loading technique"
   ]
  },
  {
   "cell_type": "code",
   "execution_count": 3,
   "metadata": {},
   "outputs": [
    {
     "data": {
      "text/plain": [
       "[1, 4, 9, 16, 25, 36]"
      ]
     },
     "execution_count": 3,
     "metadata": {},
     "output_type": "execute_result"
    }
   ],
   "source": [
    "#lambda function with map\n",
    "list(map(lambda x:x**2, numbers))"
   ]
  },
  {
   "cell_type": "markdown",
   "metadata": {},
   "source": [
    "or"
   ]
  },
  {
   "cell_type": "code",
   "execution_count": 5,
   "metadata": {},
   "outputs": [
    {
     "data": {
      "text/plain": [
       "[1, 4, 9, 16, 25, 36]"
      ]
     },
     "execution_count": 5,
     "metadata": {},
     "output_type": "execute_result"
    }
   ],
   "source": [
    "list(map(square_nos, numbers))"
   ]
  },
  {
   "cell_type": "markdown",
   "metadata": {},
   "source": [
    "#### can we map multiple iterables?\n"
   ]
  },
  {
   "cell_type": "code",
   "execution_count": 6,
   "metadata": {},
   "outputs": [
    {
     "name": "stdout",
     "output_type": "stream",
     "text": [
      "[5, 7, 9]\n"
     ]
    }
   ],
   "source": [
    "num1 = [1,2,3]\n",
    "num2 = [4,5,6]\n",
    "# here two iterables i need addition of these \n",
    "\n",
    "added_nums = list(map(lambda x,y:x+y, num1, num2))\n",
    "print(added_nums)"
   ]
  },
  {
   "cell_type": "markdown",
   "metadata": {},
   "source": [
    "#### map() to convert a list of string to integers (typecasting)"
   ]
  },
  {
   "cell_type": "code",
   "execution_count": 8,
   "metadata": {},
   "outputs": [
    {
     "name": "stdout",
     "output_type": "stream",
     "text": [
      "[1, 2, 3]\n"
     ]
    }
   ],
   "source": [
    "## map() to convert a list of string to integers\n",
    "str_nums= ['1', '2', '3']\n",
    "list_numbs = list(map(int, str_nums)) # here type casting is done to all\n",
    "print(list_numbs)"
   ]
  },
  {
   "cell_type": "markdown",
   "metadata": {},
   "source": [
    "#### inbuild functions with map()"
   ]
  },
  {
   "cell_type": "code",
   "execution_count": 10,
   "metadata": {},
   "outputs": [
    {
     "name": "stdout",
     "output_type": "stream",
     "text": [
      "['APPLE', 'BANANA', 'CHERRY']\n"
     ]
    }
   ],
   "source": [
    "# inbuild functions with map()\n",
    "words = ['apple', 'banana', 'cherry']\n",
    "upper_words = list(map(str.upper, words))\n",
    "print(upper_words)"
   ]
  },
  {
   "cell_type": "markdown",
   "metadata": {},
   "source": [
    "#### map() with list of dictionary"
   ]
  },
  {
   "cell_type": "code",
   "execution_count": 11,
   "metadata": {},
   "outputs": [
    {
     "data": {
      "text/plain": [
       "['ruksin', 'jack', 'navya']"
      ]
     },
     "execution_count": 11,
     "metadata": {},
     "output_type": "execute_result"
    }
   ],
   "source": [
    "# map with list of dictionary\n",
    "def get_name(person):\n",
    "    return person[\"name\"]\n",
    "\n",
    "\n",
    "people = [\n",
    "    {\"name\":\"ruksin\", \"age\":28},\n",
    "    {\"name\":\"jack\", \"age\":30},\n",
    "    {\"name\":\"navya\", \"age\":24}\n",
    "]\n",
    "\n",
    "list(map(get_name, people))"
   ]
  },
  {
   "cell_type": "markdown",
   "metadata": {},
   "source": [
    "### The filter() function in Python\n",
    "- constructs an iterator from elements of an iterable for which function returns __True__\n",
    "- used to filter out items from a list(or any other iterable) based on a condition\n",
    "- first parameter function, and second list(or other iterable)"
   ]
  },
  {
   "cell_type": "code",
   "execution_count": 12,
   "metadata": {},
   "outputs": [
    {
     "data": {
      "text/plain": [
       "True"
      ]
     },
     "execution_count": 12,
     "metadata": {},
     "output_type": "execute_result"
    }
   ],
   "source": [
    "def even(num):\n",
    "    if num%2 ==0 :\n",
    "        return True\n",
    "\n",
    "even(24)"
   ]
  },
  {
   "cell_type": "code",
   "execution_count": 13,
   "metadata": {},
   "outputs": [
    {
     "data": {
      "text/plain": [
       "[2, 4, 6, 8, 10, 12]"
      ]
     },
     "execution_count": 13,
     "metadata": {},
     "output_type": "execute_result"
    }
   ],
   "source": [
    "lst = [1,2,3,4,5,6,7,8,9,10,11,12]\n",
    "# i need to only filter out only the ones that satisfies the condition (even) \n",
    "# can iterate, append ,and get the values, but with filter\n",
    "list(filter(even, lst))"
   ]
  },
  {
   "cell_type": "markdown",
   "metadata": {},
   "source": [
    "#### filter() with lambda function"
   ]
  },
  {
   "cell_type": "code",
   "execution_count": 14,
   "metadata": {},
   "outputs": [
    {
     "name": "stdout",
     "output_type": "stream",
     "text": [
      "[6, 7, 8, 9]\n"
     ]
    }
   ],
   "source": [
    "numbers = [1,2,3,4,5,6,7,8,9]\n",
    "greatr_five = list(filter(lambda x:x>5,numbers))\n",
    "print(greatr_five)"
   ]
  },
  {
   "cell_type": "markdown",
   "metadata": {},
   "source": [
    "#### filter with a lambda function and multiple conditions"
   ]
  },
  {
   "cell_type": "code",
   "execution_count": 15,
   "metadata": {},
   "outputs": [
    {
     "name": "stdout",
     "output_type": "stream",
     "text": [
      "[6, 8, 12]\n"
     ]
    }
   ],
   "source": [
    "numbers = [1,2,3,4,5,6,7,8,11,12]\n",
    "even_grt_five = list(filter(lambda x:x>5 and x%2==0,numbers))\n",
    "print(even_grt_five)"
   ]
  },
  {
   "cell_type": "markdown",
   "metadata": {},
   "source": [
    "#### applying filter() in dictionary"
   ]
  },
  {
   "cell_type": "code",
   "execution_count": 19,
   "metadata": {},
   "outputs": [
    {
     "name": "stdout",
     "output_type": "stream",
     "text": [
      "[{'name': 'ruksin', 'age': 28}, {'name': 'jack', 'age': 30}]\n",
      "[True, True, False, False]\n"
     ]
    }
   ],
   "source": [
    "people = [\n",
    "    {\"name\":\"ruksin\", \"age\":28},\n",
    "    {\"name\":\"jack\", \"age\":30},\n",
    "    {\"name\":\"navya\", \"age\":24},\n",
    "    {\"name\":\"aparna\", \"age\":25}\n",
    "]\n",
    "\n",
    "def age_greter_25(person):\n",
    "    return person[\"age\"]>25\n",
    "\n",
    "with_filter = list(filter(age_greter_25, people))\n",
    "with_map = list(map(age_greter_25, people))\n",
    "print(with_filter)\n",
    "print(with_map)"
   ]
  },
  {
   "cell_type": "code",
   "execution_count": null,
   "metadata": {},
   "outputs": [],
   "source": []
  }
 ],
 "metadata": {
  "kernelspec": {
   "display_name": ".genaivenv",
   "language": "python",
   "name": "python3"
  },
  "language_info": {
   "codemirror_mode": {
    "name": "ipython",
    "version": 3
   },
   "file_extension": ".py",
   "mimetype": "text/x-python",
   "name": "python",
   "nbconvert_exporter": "python",
   "pygments_lexer": "ipython3",
   "version": "3.12.4"
  }
 },
 "nbformat": 4,
 "nbformat_minor": 2
}
