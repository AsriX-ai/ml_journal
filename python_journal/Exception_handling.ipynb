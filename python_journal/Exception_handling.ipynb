{
 "cells": [
  {
   "cell_type": "markdown",
   "metadata": {},
   "source": [
    "### Exception Handling \n",
    "### Index\n",
    "- [Understanding Exceptions](#understanding-exceptions)\n",
    "- [What are Exceptions?](#what-are-exceptions)\n",
    "- [Handling exceptions- ZeroDivisionError, FileNotFoundError, ValueError, NameError](#handling-exceptions)\n",
    "- [try, except, else block](#try-except-else-block)              \n",
    "- [try, except, else and finally](#try-except-else-and-finally)\n",
    "- [practical example - file handling and exception handling](#practical-examples)"
   ]
  },
  {
   "cell_type": "markdown",
   "metadata": {},
   "source": [
    "#### Understanding Exceptions\n",
    "- allows to handle errors gracefully\n",
    "- takes corrective actions without stopping the execution of the program\n",
    "\n",
    "#### What are Exceptions?\n",
    "- are events that disrupts the normal flow of prgm.\n",
    "- occur when an error is encountered during the program execution.\n",
    "- Common exceptions are:\n",
    "    - ZeroDivisionError: Dividing by Zero\n",
    "    - FileNotFoundError: file not found\n",
    "    - ValueError: Invalid value\n",
    "    - TypeError: Invalid type\n",
    "    - NameError: not defined"
   ]
  },
  {
   "cell_type": "markdown",
   "metadata": {},
   "source": [
    "### Handling exceptions\n",
    "### ZeroDivisionError, FileNotFoundError, ValueError, NameError"
   ]
  },
  {
   "cell_type": "code",
   "execution_count": 3,
   "metadata": {},
   "outputs": [
    {
     "ename": "NameError",
     "evalue": "name 'b' is not defined",
     "output_type": "error",
     "traceback": [
      "\u001b[0;31m---------------------------------------------------------------------------\u001b[0m",
      "\u001b[0;31mNameError\u001b[0m                                 Traceback (most recent call last)",
      "Cell \u001b[0;32mIn[3], line 1\u001b[0m\n\u001b[0;32m----> 1\u001b[0m a\u001b[38;5;241m=\u001b[39m\u001b[43mb\u001b[49m\n",
      "\u001b[0;31mNameError\u001b[0m: name 'b' is not defined"
     ]
    }
   ],
   "source": [
    "a=b"
   ]
  },
  {
   "cell_type": "code",
   "execution_count": 2,
   "metadata": {},
   "outputs": [
    {
     "name": "stdout",
     "output_type": "stream",
     "text": [
      "Variable has not been assigned\n"
     ]
    }
   ],
   "source": [
    "## Except try, except block\n",
    "try:\n",
    "    a=b\n",
    "except:\n",
    "    print(\"Variable has not been assigned\")"
   ]
  },
  {
   "cell_type": "code",
   "execution_count": 4,
   "metadata": {},
   "outputs": [
    {
     "name": "stdout",
     "output_type": "stream",
     "text": [
      "name 'b' is not defined\n"
     ]
    }
   ],
   "source": [
    "\n",
    "try:\n",
    "    a=b\n",
    "except NameError as ex:\n",
    "    print(ex)"
   ]
  },
  {
   "cell_type": "markdown",
   "metadata": {},
   "source": [
    "here I have used the same class NameERror that is responsible to catch thios exception, so giving the message"
   ]
  },
  {
   "cell_type": "code",
   "execution_count": 5,
   "metadata": {},
   "outputs": [
    {
     "ename": "ZeroDivisionError",
     "evalue": "division by zero",
     "output_type": "error",
     "traceback": [
      "\u001b[0;31m---------------------------------------------------------------------------\u001b[0m",
      "\u001b[0;31mZeroDivisionError\u001b[0m                         Traceback (most recent call last)",
      "Cell \u001b[0;32mIn[5], line 1\u001b[0m\n\u001b[0;32m----> 1\u001b[0m res \u001b[38;5;241m=\u001b[39m \u001b[38;5;241;43m1\u001b[39;49m\u001b[38;5;241;43m/\u001b[39;49m\u001b[38;5;241;43m0\u001b[39;49m\n",
      "\u001b[0;31mZeroDivisionError\u001b[0m: division by zero"
     ]
    }
   ],
   "source": [
    "res = 1/0"
   ]
  },
  {
   "cell_type": "code",
   "execution_count": 7,
   "metadata": {},
   "outputs": [
    {
     "name": "stdout",
     "output_type": "stream",
     "text": [
      "division by zero\n",
      "please enter denominator > 0\n"
     ]
    }
   ],
   "source": [
    "try:\n",
    "    res = 1/0\n",
    "except ZeroDivisionError as ex:\n",
    "    print(ex)\n",
    "    print(\"please enter denominator > 0\")"
   ]
  },
  {
   "cell_type": "code",
   "execution_count": 11,
   "metadata": {},
   "outputs": [
    {
     "ename": "NameError",
     "evalue": "name 'b' is not defined",
     "output_type": "error",
     "traceback": [
      "\u001b[0;31m---------------------------------------------------------------------------\u001b[0m",
      "\u001b[0;31mNameError\u001b[0m                                 Traceback (most recent call last)",
      "Cell \u001b[0;32mIn[11], line 3\u001b[0m\n\u001b[1;32m      1\u001b[0m \u001b[38;5;28;01mtry\u001b[39;00m:\n\u001b[1;32m      2\u001b[0m     res \u001b[38;5;241m=\u001b[39m \u001b[38;5;241m1\u001b[39m\u001b[38;5;241m/\u001b[39m\u001b[38;5;241m2\u001b[39m\n\u001b[0;32m----> 3\u001b[0m     a\u001b[38;5;241m=\u001b[39m\u001b[43mb\u001b[49m\n\u001b[1;32m      4\u001b[0m \u001b[38;5;28;01mexcept\u001b[39;00m \u001b[38;5;167;01mZeroDivisionError\u001b[39;00m \u001b[38;5;28;01mas\u001b[39;00m ex:\n\u001b[1;32m      5\u001b[0m     \u001b[38;5;28mprint\u001b[39m(ex)\n",
      "\u001b[0;31mNameError\u001b[0m: name 'b' is not defined"
     ]
    }
   ],
   "source": [
    "try:\n",
    "    res = 1/2\n",
    "    a=b\n",
    "except ZeroDivisionError as ex:\n",
    "    print(ex)\n",
    "    print(\"please enter denominator > 0\")"
   ]
  },
  {
   "cell_type": "markdown",
   "metadata": {},
   "source": [
    "so here division by zero error will not occur, but name error is there, as we have not given the NameError Class.\n",
    "- so we are using parent class Exception to handle every exceptions."
   ]
  },
  {
   "cell_type": "code",
   "execution_count": 13,
   "metadata": {},
   "outputs": [
    {
     "name": "stdout",
     "output_type": "stream",
     "text": [
      "name 'b' is not defined\n",
      "main exception got caught here\n"
     ]
    }
   ],
   "source": [
    "try:\n",
    "    res = 1/2\n",
    "    a=b\n",
    "except ZeroDivisionError as ex:\n",
    "    print(ex)\n",
    "    print(\"please enter denominator > 0\")\n",
    "except Exception as exc:\n",
    "    print(exc)\n",
    "    print('main exception got caught here')"
   ]
  },
  {
   "cell_type": "markdown",
   "metadata": {},
   "source": [
    "we can use any no of exceptions, but the Exception class should be written in last exception, should not be written before say ZeroDivisionError etc.., as  it is parent class, from which all exception is getting derived"
   ]
  },
  {
   "cell_type": "code",
   "execution_count": 17,
   "metadata": {},
   "outputs": [
    {
     "name": "stdout",
     "output_type": "stream",
     "text": [
      "2.0\n"
     ]
    }
   ],
   "source": [
    "try:\n",
    "    num = int(input(\"Enter a no:\"))\n",
    "    result = 10/num\n",
    "    print(result)\n",
    "except ValueError:\n",
    "    print(\"Not  a valid number\") #if its not a number\n",
    "except ZeroDivisionError:\n",
    "    print(\"Enter denominator greater than zero\")\n",
    "except Exception as exc:\n",
    "    print(exc)"
   ]
  },
  {
   "cell_type": "markdown",
   "metadata": {},
   "source": [
    "#### try, except, else block"
   ]
  },
  {
   "cell_type": "code",
   "execution_count": 19,
   "metadata": {},
   "outputs": [
    {
     "name": "stdout",
     "output_type": "stream",
     "text": [
      "the result is 2.0\n"
     ]
    }
   ],
   "source": [
    "## try, except, else block\n",
    "try:\n",
    "    num = int(input(\"Enter a number:\"))\n",
    "    result = 10/num\n",
    "except ValueError:\n",
    "    print(\"Not  a valid number\") #if its not a number\n",
    "except ZeroDivisionError:\n",
    "    print(\"Enter denominator greater than zero\")\n",
    "except Exception as exc:\n",
    "    print(exc)\n",
    "else:\n",
    "    print(f\"the result is {result}\")"
   ]
  },
  {
   "cell_type": "markdown",
   "metadata": {},
   "source": [
    "if none of exceptions get raised then the else block should be executed."
   ]
  },
  {
   "cell_type": "markdown",
   "metadata": {},
   "source": [
    "### try, except, else and finally"
   ]
  },
  {
   "cell_type": "code",
   "execution_count": 21,
   "metadata": {},
   "outputs": [
    {
     "name": "stdout",
     "output_type": "stream",
     "text": [
      "Enter denominator greater than zero\n",
      "Execution complete.\n"
     ]
    }
   ],
   "source": [
    "## try, except, else and finally block\n",
    "try:\n",
    "    num = int(input(\"Enter a number:\"))\n",
    "    result = 10/num\n",
    "except ValueError:\n",
    "    print(\"Not  a valid number\") #if its not a number\n",
    "except ZeroDivisionError:\n",
    "    print(\"Enter denominator greater than zero\")\n",
    "except Exception as exc:\n",
    "    print(exc)\n",
    "else:\n",
    "    print(f\"the result is {result}\")\n",
    "finally:\n",
    "    print(\"Execution complete.\")"
   ]
  },
  {
   "cell_type": "markdown",
   "metadata": {},
   "source": [
    "- if no exception(i.e., no error) take place it goes to else (that is no error is taking place).\n",
    "- finally is kind of block whether error is coming or not it has to execute"
   ]
  },
  {
   "cell_type": "markdown",
   "metadata": {},
   "source": [
    "### practical examples\n",
    "### file handling and exception handling"
   ]
  },
  {
   "cell_type": "code",
   "execution_count": 35,
   "metadata": {},
   "outputs": [
    {
     "name": "stdout",
     "output_type": "stream",
     "text": [
      "File does not exists\n"
     ]
    }
   ],
   "source": [
    "try:\n",
    "    file = open(\"examle.txt\", \"r\") #file not exist\n",
    "    content = file.read()\n",
    "    print(content)\n",
    "except FileNotFoundError:\n",
    "    print(\"File does not exists\")\n",
    "\n",
    "finally:\n",
    "    if file in locals() and not file.closed:\n",
    "        file.close()\n",
    "        print(\"file closed\")\n"
   ]
  },
  {
   "cell_type": "code",
   "execution_count": 34,
   "metadata": {},
   "outputs": [
    {
     "name": "stdout",
     "output_type": "stream",
     "text": [
      "name 'b' is not defined\n",
      "file closed\n"
     ]
    }
   ],
   "source": [
    "try:\n",
    "    file = open(\"sample.txt\", \"r\") #file not exist\n",
    "    content = file.read()\n",
    "    a=b\n",
    "    print(content)\n",
    "except FileNotFoundError:\n",
    "    print(\"File does not exists\")\n",
    "except Exception as exc:\n",
    "    print(exc)\n",
    "finally:\n",
    "    if 'file' in locals() and not file.closed:\n",
    "        file.close()\n",
    "        print(\"file closed\")"
   ]
  },
  {
   "cell_type": "code",
   "execution_count": 30,
   "metadata": {},
   "outputs": [
    {
     "name": "stdout",
     "output_type": "stream",
     "text": [
      "{'__name__': '__main__', '__doc__': 'Automatically created module for IPython interactive environment', '__package__': None, '__loader__': None, '__spec__': None, '__builtin__': <module 'builtins' (built-in)>, '__builtins__': <module 'builtins' (built-in)>, '_ih': ['', 'a = b', '## Except try, except block\\ntry:\\n    a=b\\nexcept:\\n    print(\"Variable has not been assigned\")', 'a=b', 'try:\\n    a=b\\nexcept NameError as ex:\\n    print(ex)', 'res = 1/0', 'try:\\n    res = 1/0\\nexcept ZeroDivisionError as ex:\\n    print(ex)', 'try:\\n    res = 1/0\\nexcept ZeroDivisionError as ex:\\n    print(ex)\\n    print(\"please enter denominator > 0\")', 'try:\\n    res = 1/2\\n    a=b\\nexcept ZeroDivisionError as ex:\\n    print(ex)\\n    print(\"please enter denominator > 0\")', 'try:\\n    res = 1/2\\n    a=b\\nexcept ZeroDivisionError as ex:\\n    print(ex)\\n    print(\"please enter denominator > 0\")\\nexcept Exception as exc:\\n    print(exc1)', 'try:\\n    res = 1/2\\n    a=b\\nexcept ZeroDivisionError as ex:\\n    print(ex)\\n    print(\"please enter denominator > 0\")\\nexcept Exception as exc:\\n    print(exc)', 'try:\\n    res = 1/2\\n    a=b\\nexcept ZeroDivisionError as ex:\\n    print(ex)\\n    print(\"please enter denominator > 0\")', 'try:\\n    res = 1/2\\n    a=b\\nexcept ZeroDivisionError as ex:\\n    print(ex)\\n    print(\"please enter denominator > 0\")\\nexcept Exception as exc:\\n    print(ex)\\n    print(\\'main exception got caught here\\')', 'try:\\n    res = 1/2\\n    a=b\\nexcept ZeroDivisionError as ex:\\n    print(ex)\\n    print(\"please enter denominator > 0\")\\nexcept Exception as exc:\\n    print(exc)\\n    print(\\'main exception got caught here\\')', 'try:\\n    num = int(input(\"Enter a no:\"))\\n    result = 10/num\\nexcept ValueError:\\n    print(\"Not  a valid no\")\\nexcept ZeroDivisionError:\\n    print(\"Enter denominator greater than zero\")', 'try:\\n    num = int(input(\"Enter a no:\"))\\n    result = 10/num\\nexcept ValueError:\\n    print(\"Not  a valid no\")\\nexcept ZeroDivisionError:\\n    print(\"Enter denominator greater than zero\")', 'try:\\n    num = int(input(\"Enter a no:\"))\\n    result = 10/num\\nexcept ValueError:\\n    print(\"Not  a valid number\") #if its not a number\\nexcept ZeroDivisionError:\\n    print(\"Enter denominator greater than zero\")\\nexcept Exception as exc:\\n    print(exc)', 'try:\\n    num = int(input(\"Enter a no:\"))\\n    result = 10/num\\n    print(result)\\nexcept ValueError:\\n    print(\"Not  a valid number\") #if its not a number\\nexcept ZeroDivisionError:\\n    print(\"Enter denominator greater than zero\")\\nexcept Exception as exc:\\n    print(exc)', '## try, except, else block\\ntry:\\n    num = int(input(\"Enter a number:\"))\\n    result = 10/num\\nexcept ValueError:\\n    print(\"Not  a valid number\") #if its not a number\\nexcept ZeroDivisionError:\\n    print(\"Enter denominator greater than zero\")\\nexcept Exception as exc:\\n    print(exc)\\nelse:\\n    print(\"the result is {result}\")', '## try, except, else block\\ntry:\\n    num = int(input(\"Enter a number:\"))\\n    result = 10/num\\nexcept ValueError:\\n    print(\"Not  a valid number\") #if its not a number\\nexcept ZeroDivisionError:\\n    print(\"Enter denominator greater than zero\")\\nexcept Exception as exc:\\n    print(exc)\\nelse:\\n    print(f\"the result is {result}\")', '## try, except, else and finally block\\ntry:\\n    num = int(input(\"Enter a number:\"))\\n    result = 10/num\\nexcept ValueError:\\n    print(\"Not  a valid number\") #if its not a number\\nexcept ZeroDivisionError:\\n    print(\"Enter denominator greater than zero\")\\nexcept Exception as exc:\\n    print(exc)\\nelse:\\n    print(f\"the result is {result}\")\\nfinally:\\n    print(\"Execution complete.\")', '## try, except, else and finally block\\ntry:\\n    num = int(input(\"Enter a number:\"))\\n    result = 10/num\\nexcept ValueError:\\n    print(\"Not  a valid number\") #if its not a number\\nexcept ZeroDivisionError:\\n    print(\"Enter denominator greater than zero\")\\nexcept Exception as exc:\\n    print(exc)\\nelse:\\n    print(f\"the result is {result}\")\\nfinally:\\n    print(\"Execution complete.\")', 'try:\\n    file = open(\"example.txt\", \"r\") #file not exist\\n    content = file.read()\\n    print(content)\\nexcept FileNotFoundError:\\n    print(\"File does not exists\")\\nfinally:\\n    if \\'file\\' in locals() and not file.closed():\\n        file.close()\\n        print(\"file closed\")', 'print(locals())', 'try:\\n    file = open(\"sample.txt\", \"r\") #file not exist\\n    content = file.read()\\n    a=b\\n    print(content)\\nexcept FileNotFoundError:\\n    print(\"File does not exists\")\\nexcept Exception as exc:\\n    print(exc)\\nfinally:\\n    if \\'file\\' in locals() and not file.closed():\\n        file.close()\\n        print(\"file closed\")', 'try:\\n    file = open(\"sample.txt\", \"r\") #file not exist\\n    content = file.read()\\n    a=b\\n    print(content)\\nexcept FileNotFoundError:\\n    print(\"File does not exists\")\\nexcept Exception as exc:\\n    print(exc)\\nfinally:\\n    if file in locals() and not file.closed():\\n        file.close()\\n        print(\"file closed\")', 'try:\\n    file = open(\"sample.txt\", \"r\") #file not exist\\n    content = file.read()\\n    print(content)\\nexcept FileNotFoundError:\\n    print(\"File does not exists\")\\n\\nfinally:\\n    if \\'file\\' in locals() and not file.closed():\\n        file.close()\\n        print(\"file closed\")', 'try:\\n    file = open(\"sample.txt\", \"r\") #file not exist\\n    content = file.read()\\n    print(content)\\nexcept FileNotFoundError:\\n    print(\"File does not exists\")\\n\\nfinally:\\n    if file in locals() and not file.closed():\\n        file.close()\\n        print(\"file closed\")', 'try:\\n    file = open(\"sample.txt\", \"r\") #file not exist\\n    content = file.read()\\n    a=b\\n    print(content)\\nexcept FileNotFoundError:\\n    print(\"File does not exists\")\\nexcept Exception as exc:\\n    print(exc)\\nfinally:\\n    if file in locals() and not file.closed():\\n        file.close()\\n        print(\"file closed\")', 'try:\\n    file = open(\"examle.txt\", \"r\") #file not exist\\n    content = file.read()\\n    print(content)\\nexcept FileNotFoundError:\\n    print(\"File does not exists\")\\n\\nfinally:\\n    if file in locals() and not file.closed():\\n        file.close()\\n        print(\"file closed\")', 'print(locals())'], '_oh': {}, '_dh': [PosixPath('/home/thinkpalm/vs_projects/genai_udemy/ml_journal/python_journal')], 'In': ['', 'a = b', '## Except try, except block\\ntry:\\n    a=b\\nexcept:\\n    print(\"Variable has not been assigned\")', 'a=b', 'try:\\n    a=b\\nexcept NameError as ex:\\n    print(ex)', 'res = 1/0', 'try:\\n    res = 1/0\\nexcept ZeroDivisionError as ex:\\n    print(ex)', 'try:\\n    res = 1/0\\nexcept ZeroDivisionError as ex:\\n    print(ex)\\n    print(\"please enter denominator > 0\")', 'try:\\n    res = 1/2\\n    a=b\\nexcept ZeroDivisionError as ex:\\n    print(ex)\\n    print(\"please enter denominator > 0\")', 'try:\\n    res = 1/2\\n    a=b\\nexcept ZeroDivisionError as ex:\\n    print(ex)\\n    print(\"please enter denominator > 0\")\\nexcept Exception as exc:\\n    print(exc1)', 'try:\\n    res = 1/2\\n    a=b\\nexcept ZeroDivisionError as ex:\\n    print(ex)\\n    print(\"please enter denominator > 0\")\\nexcept Exception as exc:\\n    print(exc)', 'try:\\n    res = 1/2\\n    a=b\\nexcept ZeroDivisionError as ex:\\n    print(ex)\\n    print(\"please enter denominator > 0\")', 'try:\\n    res = 1/2\\n    a=b\\nexcept ZeroDivisionError as ex:\\n    print(ex)\\n    print(\"please enter denominator > 0\")\\nexcept Exception as exc:\\n    print(ex)\\n    print(\\'main exception got caught here\\')', 'try:\\n    res = 1/2\\n    a=b\\nexcept ZeroDivisionError as ex:\\n    print(ex)\\n    print(\"please enter denominator > 0\")\\nexcept Exception as exc:\\n    print(exc)\\n    print(\\'main exception got caught here\\')', 'try:\\n    num = int(input(\"Enter a no:\"))\\n    result = 10/num\\nexcept ValueError:\\n    print(\"Not  a valid no\")\\nexcept ZeroDivisionError:\\n    print(\"Enter denominator greater than zero\")', 'try:\\n    num = int(input(\"Enter a no:\"))\\n    result = 10/num\\nexcept ValueError:\\n    print(\"Not  a valid no\")\\nexcept ZeroDivisionError:\\n    print(\"Enter denominator greater than zero\")', 'try:\\n    num = int(input(\"Enter a no:\"))\\n    result = 10/num\\nexcept ValueError:\\n    print(\"Not  a valid number\") #if its not a number\\nexcept ZeroDivisionError:\\n    print(\"Enter denominator greater than zero\")\\nexcept Exception as exc:\\n    print(exc)', 'try:\\n    num = int(input(\"Enter a no:\"))\\n    result = 10/num\\n    print(result)\\nexcept ValueError:\\n    print(\"Not  a valid number\") #if its not a number\\nexcept ZeroDivisionError:\\n    print(\"Enter denominator greater than zero\")\\nexcept Exception as exc:\\n    print(exc)', '## try, except, else block\\ntry:\\n    num = int(input(\"Enter a number:\"))\\n    result = 10/num\\nexcept ValueError:\\n    print(\"Not  a valid number\") #if its not a number\\nexcept ZeroDivisionError:\\n    print(\"Enter denominator greater than zero\")\\nexcept Exception as exc:\\n    print(exc)\\nelse:\\n    print(\"the result is {result}\")', '## try, except, else block\\ntry:\\n    num = int(input(\"Enter a number:\"))\\n    result = 10/num\\nexcept ValueError:\\n    print(\"Not  a valid number\") #if its not a number\\nexcept ZeroDivisionError:\\n    print(\"Enter denominator greater than zero\")\\nexcept Exception as exc:\\n    print(exc)\\nelse:\\n    print(f\"the result is {result}\")', '## try, except, else and finally block\\ntry:\\n    num = int(input(\"Enter a number:\"))\\n    result = 10/num\\nexcept ValueError:\\n    print(\"Not  a valid number\") #if its not a number\\nexcept ZeroDivisionError:\\n    print(\"Enter denominator greater than zero\")\\nexcept Exception as exc:\\n    print(exc)\\nelse:\\n    print(f\"the result is {result}\")\\nfinally:\\n    print(\"Execution complete.\")', '## try, except, else and finally block\\ntry:\\n    num = int(input(\"Enter a number:\"))\\n    result = 10/num\\nexcept ValueError:\\n    print(\"Not  a valid number\") #if its not a number\\nexcept ZeroDivisionError:\\n    print(\"Enter denominator greater than zero\")\\nexcept Exception as exc:\\n    print(exc)\\nelse:\\n    print(f\"the result is {result}\")\\nfinally:\\n    print(\"Execution complete.\")', 'try:\\n    file = open(\"example.txt\", \"r\") #file not exist\\n    content = file.read()\\n    print(content)\\nexcept FileNotFoundError:\\n    print(\"File does not exists\")\\nfinally:\\n    if \\'file\\' in locals() and not file.closed():\\n        file.close()\\n        print(\"file closed\")', 'print(locals())', 'try:\\n    file = open(\"sample.txt\", \"r\") #file not exist\\n    content = file.read()\\n    a=b\\n    print(content)\\nexcept FileNotFoundError:\\n    print(\"File does not exists\")\\nexcept Exception as exc:\\n    print(exc)\\nfinally:\\n    if \\'file\\' in locals() and not file.closed():\\n        file.close()\\n        print(\"file closed\")', 'try:\\n    file = open(\"sample.txt\", \"r\") #file not exist\\n    content = file.read()\\n    a=b\\n    print(content)\\nexcept FileNotFoundError:\\n    print(\"File does not exists\")\\nexcept Exception as exc:\\n    print(exc)\\nfinally:\\n    if file in locals() and not file.closed():\\n        file.close()\\n        print(\"file closed\")', 'try:\\n    file = open(\"sample.txt\", \"r\") #file not exist\\n    content = file.read()\\n    print(content)\\nexcept FileNotFoundError:\\n    print(\"File does not exists\")\\n\\nfinally:\\n    if \\'file\\' in locals() and not file.closed():\\n        file.close()\\n        print(\"file closed\")', 'try:\\n    file = open(\"sample.txt\", \"r\") #file not exist\\n    content = file.read()\\n    print(content)\\nexcept FileNotFoundError:\\n    print(\"File does not exists\")\\n\\nfinally:\\n    if file in locals() and not file.closed():\\n        file.close()\\n        print(\"file closed\")', 'try:\\n    file = open(\"sample.txt\", \"r\") #file not exist\\n    content = file.read()\\n    a=b\\n    print(content)\\nexcept FileNotFoundError:\\n    print(\"File does not exists\")\\nexcept Exception as exc:\\n    print(exc)\\nfinally:\\n    if file in locals() and not file.closed():\\n        file.close()\\n        print(\"file closed\")', 'try:\\n    file = open(\"examle.txt\", \"r\") #file not exist\\n    content = file.read()\\n    print(content)\\nexcept FileNotFoundError:\\n    print(\"File does not exists\")\\n\\nfinally:\\n    if file in locals() and not file.closed():\\n        file.close()\\n        print(\"file closed\")', 'print(locals())'], 'Out': {}, 'get_ipython': <bound method InteractiveShell.get_ipython of <ipykernel.zmqshell.ZMQInteractiveShell object at 0x7f4a4ae43620>>, 'exit': <IPython.core.autocall.ZMQExitAutocall object at 0x7f4a48238ec0>, 'quit': <IPython.core.autocall.ZMQExitAutocall object at 0x7f4a48238ec0>, 'open': <function open at 0x7f4a4b9a1e40>, '_': '', '__': '', '___': '', '__vsc_ipynb_file__': '/home/thinkpalm/vs_projects/genai_udemy/ml_journal/python_journal/Exception_handling.ipynb', '_i': 'try:\\n    file = open(\"examle.txt\", \"r\") #file not exist\\n    content = file.read()\\n    print(content)\\nexcept FileNotFoundError:\\n    print(\"File does not exists\")\\n\\nfinally:\\n    if file in locals() and not file.closed():\\n        file.close()\\n        print(\"file closed\")', '_ii': 'try:\\n    file = open(\"sample.txt\", \"r\") #file not exist\\n    content = file.read()\\n    a=b\\n    print(content)\\nexcept FileNotFoundError:\\n    print(\"File does not exists\")\\nexcept Exception as exc:\\n    print(exc)\\nfinally:\\n    if file in locals() and not file.closed():\\n        file.close()\\n        print(\"file closed\")', '_iii': 'try:\\n    file = open(\"sample.txt\", \"r\") #file not exist\\n    content = file.read()\\n    print(content)\\nexcept FileNotFoundError:\\n    print(\"File does not exists\")\\n\\nfinally:\\n    if file in locals() and not file.closed():\\n        file.close()\\n        print(\"file closed\")', '_i1': 'a = b', '_i2': '## Except try, except block\\ntry:\\n    a=b\\nexcept:\\n    print(\"Variable has not been assigned\")', '_i3': 'a=b', '_i4': '\\ntry:\\n    a=b\\nexcept NameError as ex:\\n    print(ex)', '_i5': 'res = 1/0', '_i6': 'try:\\n    res = 1/0\\nexcept ZeroDivisionError as ex:\\n    print(ex)', '_i7': 'try:\\n    res = 1/0\\nexcept ZeroDivisionError as ex:\\n    print(ex)\\n    print(\"please enter denominator > 0\")', '_i8': 'try:\\n    res = 1/2\\n    a=b\\nexcept ZeroDivisionError as ex:\\n    print(ex)\\n    print(\"please enter denominator > 0\")', 'res': 0.5, '_i9': 'try:\\n    res = 1/2\\n    a=b\\nexcept ZeroDivisionError as ex:\\n    print(ex)\\n    print(\"please enter denominator > 0\")\\nexcept Exception as exc:\\n    print(exc1)', '_i10': 'try:\\n    res = 1/2\\n    a=b\\nexcept ZeroDivisionError as ex:\\n    print(ex)\\n    print(\"please enter denominator > 0\")\\nexcept Exception as exc:\\n    print(exc)', '_i11': 'try:\\n    res = 1/2\\n    a=b\\nexcept ZeroDivisionError as ex:\\n    print(ex)\\n    print(\"please enter denominator > 0\")', '_i12': 'try:\\n    res = 1/2\\n    a=b\\nexcept ZeroDivisionError as ex:\\n    print(ex)\\n    print(\"please enter denominator > 0\")\\nexcept Exception as exc:\\n    print(ex)\\n    print(\\'main exception got caught here\\')', '_i13': 'try:\\n    res = 1/2\\n    a=b\\nexcept ZeroDivisionError as ex:\\n    print(ex)\\n    print(\"please enter denominator > 0\")\\nexcept Exception as exc:\\n    print(exc)\\n    print(\\'main exception got caught here\\')', '_i14': 'try:\\n    num = int(input(\"Enter a no:\"))\\n    result = 10/num\\nexcept ValueError:\\n    print(\"Not  a valid no\")\\nexcept ZeroDivisionError:\\n    print(\"Enter denominator greater than zero\")', 'num': 0, '_i15': 'try:\\n    num = int(input(\"Enter a no:\"))\\n    result = 10/num\\nexcept ValueError:\\n    print(\"Not  a valid no\")\\nexcept ZeroDivisionError:\\n    print(\"Enter denominator greater than zero\")', '_i16': 'try:\\n    num = int(input(\"Enter a no:\"))\\n    result = 10/num\\nexcept ValueError:\\n    print(\"Not  a valid number\") #if its not a number\\nexcept ZeroDivisionError:\\n    print(\"Enter denominator greater than zero\")\\nexcept Exception as exc:\\n    print(exc)', 'result': 0.8333333333333334, '_i17': 'try:\\n    num = int(input(\"Enter a no:\"))\\n    result = 10/num\\n    print(result)\\nexcept ValueError:\\n    print(\"Not  a valid number\") #if its not a number\\nexcept ZeroDivisionError:\\n    print(\"Enter denominator greater than zero\")\\nexcept Exception as exc:\\n    print(exc)', '_i18': '## try, except, else block\\ntry:\\n    num = int(input(\"Enter a number:\"))\\n    result = 10/num\\nexcept ValueError:\\n    print(\"Not  a valid number\") #if its not a number\\nexcept ZeroDivisionError:\\n    print(\"Enter denominator greater than zero\")\\nexcept Exception as exc:\\n    print(exc)\\nelse:\\n    print(\"the result is {result}\")', '_i19': '## try, except, else block\\ntry:\\n    num = int(input(\"Enter a number:\"))\\n    result = 10/num\\nexcept ValueError:\\n    print(\"Not  a valid number\") #if its not a number\\nexcept ZeroDivisionError:\\n    print(\"Enter denominator greater than zero\")\\nexcept Exception as exc:\\n    print(exc)\\nelse:\\n    print(f\"the result is {result}\")', '_i20': '## try, except, else and finally block\\ntry:\\n    num = int(input(\"Enter a number:\"))\\n    result = 10/num\\nexcept ValueError:\\n    print(\"Not  a valid number\") #if its not a number\\nexcept ZeroDivisionError:\\n    print(\"Enter denominator greater than zero\")\\nexcept Exception as exc:\\n    print(exc)\\nelse:\\n    print(f\"the result is {result}\")\\nfinally:\\n    print(\"Execution complete.\")', '_i21': '## try, except, else and finally block\\ntry:\\n    num = int(input(\"Enter a number:\"))\\n    result = 10/num\\nexcept ValueError:\\n    print(\"Not  a valid number\") #if its not a number\\nexcept ZeroDivisionError:\\n    print(\"Enter denominator greater than zero\")\\nexcept Exception as exc:\\n    print(exc)\\nelse:\\n    print(f\"the result is {result}\")\\nfinally:\\n    print(\"Execution complete.\")', '_i22': 'try:\\n    file = open(\"example.txt\", \"r\") #file not exist\\n    content = file.read()\\n    print(content)\\nexcept FileNotFoundError:\\n    print(\"File does not exists\")\\nfinally:\\n    if \\'file\\' in locals() and not file.closed():\\n        file.close()\\n        print(\"file closed\")', '_i23': 'print(locals())', '_i24': 'try:\\n    file = open(\"sample.txt\", \"r\") #file not exist\\n    content = file.read()\\n    a=b\\n    print(content)\\nexcept FileNotFoundError:\\n    print(\"File does not exists\")\\nexcept Exception as exc:\\n    print(exc)\\nfinally:\\n    if \\'file\\' in locals() and not file.closed():\\n        file.close()\\n        print(\"file closed\")', 'file': <_io.TextIOWrapper name='sample.txt' mode='r' encoding='UTF-8'>, 'content': 'Hello World \\nTHis is a new line \\n', '_i25': 'try:\\n    file = open(\"sample.txt\", \"r\") #file not exist\\n    content = file.read()\\n    a=b\\n    print(content)\\nexcept FileNotFoundError:\\n    print(\"File does not exists\")\\nexcept Exception as exc:\\n    print(exc)\\nfinally:\\n    if file in locals() and not file.closed():\\n        file.close()\\n        print(\"file closed\")', '_i26': 'try:\\n    file = open(\"sample.txt\", \"r\") #file not exist\\n    content = file.read()\\n    print(content)\\nexcept FileNotFoundError:\\n    print(\"File does not exists\")\\n\\nfinally:\\n    if \\'file\\' in locals() and not file.closed():\\n        file.close()\\n        print(\"file closed\")', '_i27': 'try:\\n    file = open(\"sample.txt\", \"r\") #file not exist\\n    content = file.read()\\n    print(content)\\nexcept FileNotFoundError:\\n    print(\"File does not exists\")\\n\\nfinally:\\n    if file in locals() and not file.closed():\\n        file.close()\\n        print(\"file closed\")', '_i28': 'try:\\n    file = open(\"sample.txt\", \"r\") #file not exist\\n    content = file.read()\\n    a=b\\n    print(content)\\nexcept FileNotFoundError:\\n    print(\"File does not exists\")\\nexcept Exception as exc:\\n    print(exc)\\nfinally:\\n    if file in locals() and not file.closed():\\n        file.close()\\n        print(\"file closed\")', '_i29': 'try:\\n    file = open(\"examle.txt\", \"r\") #file not exist\\n    content = file.read()\\n    print(content)\\nexcept FileNotFoundError:\\n    print(\"File does not exists\")\\n\\nfinally:\\n    if file in locals() and not file.closed():\\n        file.close()\\n        print(\"file closed\")', '_i30': 'print(locals())'}\n"
     ]
    }
   ],
   "source": [
    "print(locals())"
   ]
  },
  {
   "cell_type": "code",
   "execution_count": null,
   "metadata": {},
   "outputs": [],
   "source": []
  }
 ],
 "metadata": {
  "kernelspec": {
   "display_name": ".genaivenv",
   "language": "python",
   "name": "python3"
  },
  "language_info": {
   "codemirror_mode": {
    "name": "ipython",
    "version": 3
   },
   "file_extension": ".py",
   "mimetype": "text/x-python",
   "name": "python",
   "nbconvert_exporter": "python",
   "pygments_lexer": "ipython3",
   "version": "3.12.4"
  }
 },
 "nbformat": 4,
 "nbformat_minor": 2
}
