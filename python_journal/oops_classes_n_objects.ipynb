{
 "cells": [
  {
   "cell_type": "markdown",
   "metadata": {},
   "source": [
    "### Classes and Objects\n",
    "### Index\n",
    "- [Object Oriented Programming (OOP) and Class](#object-oriented-programming-oop)\n",
    "- [Instance variable and methods](#instance-variable-and-methods)\n",
    "- [method __ init __ (constructor) and instance variable](#method-__-init-__-constructor-and-instance-variable)\n",
    "- [Instance Methods](#instance-methods)\n",
    "- [Example: modeling a bank account](#example-modeling-a-bank-account)"
   ]
  },
  {
   "cell_type": "markdown",
   "metadata": {},
   "source": [
    "### Object Oriented Programming (OOP)\n",
    "- is a prgm paradigm that uses \"objects\" to design applications and computer programs.\n",
    "- allows for modeling real-world scenarios using classes and objects.\n",
    "\n",
    "### Class\n",
    "- is a blueprint for creating objects.\n",
    "- will be having seperate attributes and methods"
   ]
  },
  {
   "cell_type": "code",
   "execution_count": 1,
   "metadata": {},
   "outputs": [
    {
     "name": "stdout",
     "output_type": "stream",
     "text": [
      "<class '__main__.Car'>\n"
     ]
    }
   ],
   "source": [
    "class Car:\n",
    "    pass\n",
    "\n",
    "\n",
    "# creating the object using the blueprint Car\n",
    "audi = Car()\n",
    "bmw = Car()\n",
    "\n",
    "print(type(audi))\n"
   ]
  },
  {
   "cell_type": "markdown",
   "metadata": {},
   "source": [
    "- here audi is the object that is instantiated from the class Car\n",
    "- ie the audi object is using the features of the Car"
   ]
  },
  {
   "cell_type": "code",
   "execution_count": 3,
   "metadata": {},
   "outputs": [
    {
     "name": "stdout",
     "output_type": "stream",
     "text": [
      "<__main__.Car object at 0x7fb3e15f3590>\n",
      "<__main__.Car object at 0x7fb3e15f0590>\n"
     ]
    }
   ],
   "source": [
    "print(audi)\n",
    "print(bmw)"
   ]
  },
  {
   "cell_type": "markdown",
   "metadata": {},
   "source": [
    "### Instance variable and methods"
   ]
  },
  {
   "cell_type": "code",
   "execution_count": 4,
   "metadata": {},
   "outputs": [
    {
     "name": "stdout",
     "output_type": "stream",
     "text": [
      "4\n"
     ]
    }
   ],
   "source": [
    "audi.windows = 4\n",
    "print(audi.windows)"
   ]
  },
  {
   "cell_type": "markdown",
   "metadata": {},
   "source": [
    "initialising attributes in this way is not a proper way"
   ]
  },
  {
   "cell_type": "code",
   "execution_count": 6,
   "metadata": {},
   "outputs": [],
   "source": [
    "tata = Car()\n",
    "tata.doors = 5 # (doors another attribute)"
   ]
  },
  {
   "cell_type": "markdown",
   "metadata": {},
   "source": [
    "wrt audi i created attribute named windows, that is not in tata,, and in tata i cretaed the attribute doors that is not in audi"
   ]
  },
  {
   "cell_type": "code",
   "execution_count": 7,
   "metadata": {},
   "outputs": [
    {
     "ename": "AttributeError",
     "evalue": "'Car' object has no attribute 'windows'",
     "output_type": "error",
     "traceback": [
      "\u001b[0;31m---------------------------------------------------------------------------\u001b[0m",
      "\u001b[0;31mAttributeError\u001b[0m                            Traceback (most recent call last)",
      "Cell \u001b[0;32mIn[7], line 1\u001b[0m\n\u001b[0;32m----> 1\u001b[0m \u001b[38;5;28mprint\u001b[39m(\u001b[43mtata\u001b[49m\u001b[38;5;241;43m.\u001b[39;49m\u001b[43mwindows\u001b[49m)\n",
      "\u001b[0;31mAttributeError\u001b[0m: 'Car' object has no attribute 'windows'"
     ]
    }
   ],
   "source": [
    "print(tata.windows)"
   ]
  },
  {
   "cell_type": "code",
   "execution_count": 8,
   "metadata": {},
   "outputs": [
    {
     "data": {
      "text/plain": [
       "['__class__',\n",
       " '__delattr__',\n",
       " '__dict__',\n",
       " '__dir__',\n",
       " '__doc__',\n",
       " '__eq__',\n",
       " '__format__',\n",
       " '__ge__',\n",
       " '__getattribute__',\n",
       " '__getstate__',\n",
       " '__gt__',\n",
       " '__hash__',\n",
       " '__init__',\n",
       " '__init_subclass__',\n",
       " '__le__',\n",
       " '__lt__',\n",
       " '__module__',\n",
       " '__ne__',\n",
       " '__new__',\n",
       " '__reduce__',\n",
       " '__reduce_ex__',\n",
       " '__repr__',\n",
       " '__setattr__',\n",
       " '__sizeof__',\n",
       " '__str__',\n",
       " '__subclasshook__',\n",
       " '__weakref__',\n",
       " 'doors']"
      ]
     },
     "execution_count": 8,
     "metadata": {},
     "output_type": "execute_result"
    }
   ],
   "source": [
    "dir(tata)"
   ]
  },
  {
   "cell_type": "markdown",
   "metadata": {},
   "source": [
    "dir(tata) prints different inbuilt methods along with the attribute that we created, \n",
    "### method __ init __ (constructor) and instance variable\n",
    "\n",
    "with the help of this constructor i will be able to define all the attributes that will be available in class"
   ]
  },
  {
   "cell_type": "code",
   "execution_count": 10,
   "metadata": {},
   "outputs": [
    {
     "name": "stdout",
     "output_type": "stream",
     "text": [
      "<__main__.Dog object at 0x7fb3e037d130>\n",
      "Buddy\n",
      "3\n"
     ]
    }
   ],
   "source": [
    "class Dog:\n",
    "    ## constructor\n",
    "    def __init__(self, name, age):\n",
    "        self.name = name\n",
    "        self.age = age\n",
    "    \n",
    "## craeting object\n",
    "dog1 = Dog(\"Buddy\", 3)\n",
    "print(dog1)\n",
    "print(dog1.name)\n",
    "print(dog1.age)"
   ]
  },
  {
   "cell_type": "markdown",
   "metadata": {},
   "source": [
    "- __def __ init __ (name, age)__ , while initialising or creating the object from Dog class, i have to make sure i need to give the two values name and age during the run time.\n",
    "- name and age are the parameters\n",
    "- not compulsory to write self itself (keyword specifically used world wide), this self keyword is responsible to access the instance variable inside the class itself whenever we create the object.\n",
    "- instance variable - are some kind of properties that are available in the Dog class,  self.name=name (self.name is the instance variable)\n",
    "- when creating the object dog1 __dog1 = Dog()__ , it will get initialised from Dog, internally when calling the __Dog()__ it will call the constructor first"
   ]
  },
  {
   "cell_type": "code",
   "execution_count": 11,
   "metadata": {},
   "outputs": [
    {
     "name": "stdout",
     "output_type": "stream",
     "text": [
      "<__main__.Dog object at 0x7fb3e15f3bc0>\n",
      "Lisa\n",
      "2\n"
     ]
    }
   ],
   "source": [
    "## craeting object\n",
    "dog2 = Dog(\"Lisa\", 2)\n",
    "print(dog2)\n",
    "print(dog2.name)\n",
    "print(dog2.age)"
   ]
  },
  {
   "cell_type": "markdown",
   "metadata": {},
   "source": [
    "- the best thing is that we have defined the instance variable initilaly in the constructor, we cannot define or create anymore.\n",
    "- if more is required then self.thatvariable = value\n",
    "- __instance variable__ is some kind of properties that talks about class(eg: Dog) like name and age properties or attributes of Dog"
   ]
  },
  {
   "cell_type": "markdown",
   "metadata": {},
   "source": [
    "### Instance Methods\n",
    "-dog may be barking or running some specific field that is some functionality that is instance method"
   ]
  },
  {
   "cell_type": "code",
   "execution_count": 14,
   "metadata": {},
   "outputs": [
    {
     "name": "stdout",
     "output_type": "stream",
     "text": [
      "Buddy says woof\n",
      "Lisa says woof\n"
     ]
    }
   ],
   "source": [
    "# define class with instance method\n",
    "class Dog:\n",
    "    ## constructor\n",
    "    def __init__(self, name, age):\n",
    "        self.name = name\n",
    "        self.age = age\n",
    "    \n",
    "    def bark(self):\n",
    "        print(f\"{self.name} says woof\")\n",
    "\n",
    "## craeting object\n",
    "dog1 = Dog(\"Buddy\", 3)\n",
    "dog1.bark()\n",
    "dog2 = Dog(\"Lisa\", 2)\n",
    "dog2.bark()\n"
   ]
  },
  {
   "cell_type": "markdown",
   "metadata": {},
   "source": [
    "__def bark(self)__ here self is used, so inside this method also we can use the self variable.\n",
    "\n",
    "### Example: modeling a bank account"
   ]
  },
  {
   "cell_type": "code",
   "execution_count": 15,
   "metadata": {},
   "outputs": [
    {
     "name": "stdout",
     "output_type": "stream",
     "text": [
      "10000\n"
     ]
    }
   ],
   "source": [
    "## modeling a bank account\n",
    "\n",
    "class BankAccount:\n",
    "    def __init__(self, owner, balance=0):\n",
    "        self.owner = owner\n",
    "        self.balance = balance\n",
    "\n",
    "    def deposit(self, amount): # to deposit\n",
    "        self.balance += amount\n",
    "        print(f\"{amount} is deposited, Newbalance is {self.balance}\")\n",
    "\n",
    "    def withdraw(self, amount): #to withdraw\n",
    "        if amount > self.balance:\n",
    "            print(\"Insufficient funds!\")\n",
    "        else:\n",
    "            self.balance -= amount\n",
    "            print(f\"{amount} is withdrawn, new balance is {self.balance}\")\n",
    "    \n",
    "    def get_balance(self):\n",
    "        return self.balance\n",
    "    \n",
    "\n",
    "## create an account\n",
    "account = BankAccount(\"ruksin\", 10000)\n",
    "print(account.balance)\n"
   ]
  },
  {
   "cell_type": "code",
   "execution_count": 16,
   "metadata": {},
   "outputs": [
    {
     "name": "stdout",
     "output_type": "stream",
     "text": [
      "500 is deposited, Newbalance is 10500\n"
     ]
    }
   ],
   "source": [
    "# calling instance methods\n",
    "account.deposit(500)"
   ]
  },
  {
   "cell_type": "code",
   "execution_count": 17,
   "metadata": {},
   "outputs": [
    {
     "name": "stdout",
     "output_type": "stream",
     "text": [
      "200 is withdrawn, new balance is 10300\n"
     ]
    }
   ],
   "source": [
    "account.withdraw(200)"
   ]
  },
  {
   "cell_type": "code",
   "execution_count": 18,
   "metadata": {},
   "outputs": [
    {
     "name": "stdout",
     "output_type": "stream",
     "text": [
      "10300\n"
     ]
    }
   ],
   "source": [
    "print(account.balance)"
   ]
  },
  {
   "cell_type": "markdown",
   "metadata": {},
   "source": [
    "### Inheritance in Python\n",
    "### single inheritance\n",
    "- it allows a class to inherit attributes and methods from another class."
   ]
  },
  {
   "cell_type": "code",
   "execution_count": 19,
   "metadata": {},
   "outputs": [],
   "source": [
    "# parent class\n",
    "class Car:\n",
    "    def __init__(self, windows, doors, enginetype):\n",
    "        self.windows = windows\n",
    "        self.doors = doors\n",
    "        self.enginetype = enginetype\n",
    "\n",
    "    def drive(self):\n",
    "        print(f\"The person will drive the {self.enginetype} car\")\n"
   ]
  },
  {
   "cell_type": "code",
   "execution_count": 22,
   "metadata": {},
   "outputs": [
    {
     "name": "stdout",
     "output_type": "stream",
     "text": [
      "The person will drive the petrol car\n"
     ]
    }
   ],
   "source": [
    "car1 = Car(4,5,\"petrol\")\n",
    "car1.drive()"
   ]
  },
  {
   "cell_type": "code",
   "execution_count": 23,
   "metadata": {},
   "outputs": [],
   "source": [
    "class Tesla(Car): # inheriting Car class\n",
    "    def __init__(self, windows, doors, enginetype, is_selfdriving):\n",
    "        super().__init__(windows, doors, enginetype)  # trying to call the parent class, and calling __init__ method\n",
    "        self.isselfdriving = is_selfdriving\n",
    "\n",
    "    def self_driving(self):\n",
    "        print(f\"Tesla supports self driving : {self.isselfdriving}\")"
   ]
  },
  {
   "cell_type": "code",
   "execution_count": 27,
   "metadata": {},
   "outputs": [
    {
     "name": "stdout",
     "output_type": "stream",
     "text": [
      "Tesla supports self driving : True\n",
      "The person will drive the electric car\n"
     ]
    }
   ],
   "source": [
    "tesla1 = Tesla(4,5,\"electric\", True)\n",
    "tesla1.self_driving()\n",
    "tesla1.drive() # from parent class"
   ]
  },
  {
   "cell_type": "markdown",
   "metadata": {},
   "source": [
    "### multiple inheritance\n",
    "- when a class inheritance from more than one base class"
   ]
  },
  {
   "cell_type": "code",
   "execution_count": 31,
   "metadata": {},
   "outputs": [
    {
     "name": "stdout",
     "output_type": "stream",
     "text": [
      "Buddy say woof\n",
      "Owner : varun\n"
     ]
    }
   ],
   "source": [
    "#baseclass1\n",
    "class Animal:\n",
    "    def __init__(self, name):\n",
    "        self.name = name\n",
    "\n",
    "    def speak(self):\n",
    "        print(\"subclass must implement this method\")\n",
    "\n",
    "#baseclass2\n",
    "class Pet:\n",
    "    def __init__(self, owner):\n",
    "        self.owner = owner\n",
    "\n",
    "#derived class\n",
    "# to inherit both the classes \n",
    "\n",
    "class Dog(Animal, Pet):\n",
    "    def __init__(self, name, owner):\n",
    "        Animal.__init__(self,name) #one way\n",
    "        Pet.__init__(self, owner)\n",
    "\n",
    "\n",
    "    def speak(self):\n",
    "        return f\"{self.name} say woof\"\n",
    "\n",
    "        \n",
    "#create an object\"\n",
    "dog = Dog(\"Buddy\", \"varun\")\n",
    "print(dog.speak())\n",
    "print(f\"Owner : {dog.owner}\")\n"
   ]
  },
  {
   "cell_type": "markdown",
   "metadata": {},
   "source": [
    "here no super() because more than one base class"
   ]
  },
  {
   "cell_type": "markdown",
   "metadata": {},
   "source": []
  }
 ],
 "metadata": {
  "kernelspec": {
   "display_name": ".genaivenv",
   "language": "python",
   "name": "python3"
  },
  "language_info": {
   "codemirror_mode": {
    "name": "ipython",
    "version": 3
   },
   "file_extension": ".py",
   "mimetype": "text/x-python",
   "name": "python",
   "nbconvert_exporter": "python",
   "pygments_lexer": "ipython3",
   "version": "3.12.4"
  }
 },
 "nbformat": 4,
 "nbformat_minor": 2
}
