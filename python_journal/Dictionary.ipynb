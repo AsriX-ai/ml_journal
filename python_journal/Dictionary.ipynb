{
 "cells": [
  {
   "cell_type": "markdown",
   "metadata": {
    "vscode": {
     "languageId": "plaintext"
    }
   },
   "source": [
    "## Data Structures Using Python - Dictionary\n",
    "### Index\n",
    "- [Dictionaries](#dictionaries)\n",
    "- [Creating Dictionaries](#creating-dictionaries)\n",
    "- [Accessing dictionary elements](#accessing-dictionary-elements)\n",
    "- [Modifying elements (add, update, delete)](#modifying-elements-add-update-delete)\n",
    "- [Dictionary Methods](#dictionary-methods)\n",
    "- [Shallow copy](#shallow-copy)\n",
    "- [Iterating over dictionaries](#iterating-over-dictionaries)\n",
    "- [Nested Dictionaries](#nested-dictionaries)\n",
    "- [Dictionay Comprehension](#dictionay-comprehension)\n",
    "- [Practical examples](#practical-examples)\n"
   ]
  },
  {
   "cell_type": "markdown",
   "metadata": {},
   "source": [
    "### Dictionaries\n",
    "- unordered collection of items\n",
    "- stored in key value pair\n",
    "- key must be unique and immutable\n",
    "- key must always be unique (strings, numbers, or tuples)\n",
    "- values any type"
   ]
  },
  {
   "cell_type": "markdown",
   "metadata": {},
   "source": [
    "#### Creating Dictionaries"
   ]
  },
  {
   "cell_type": "code",
   "execution_count": 1,
   "metadata": {},
   "outputs": [
    {
     "name": "stdout",
     "output_type": "stream",
     "text": [
      "<class 'dict'>\n"
     ]
    }
   ],
   "source": [
    "## creating Dictionaries\n",
    "empty_dict = {}\n",
    "print(type(empty_dict))"
   ]
  },
  {
   "cell_type": "code",
   "execution_count": 2,
   "metadata": {},
   "outputs": [
    {
     "name": "stdout",
     "output_type": "stream",
     "text": [
      "<class 'dict'>\n"
     ]
    }
   ],
   "source": [
    "# other method\n",
    "empty_dict1 = dict()\n",
    "print(type(empty_dict1))"
   ]
  },
  {
   "cell_type": "code",
   "execution_count": 3,
   "metadata": {},
   "outputs": [
    {
     "name": "stdout",
     "output_type": "stream",
     "text": [
      "{'name': 'Varada', 'age': 30, 'exp': 6}\n",
      "<class 'dict'>\n"
     ]
    }
   ],
   "source": [
    "employee = {\"name\": \"Varada\", \"age\": 30, \"exp\": 6}\n",
    "print(employee)\n",
    "print(type(employee))"
   ]
  },
  {
   "cell_type": "code",
   "execution_count": 4,
   "metadata": {},
   "outputs": [
    {
     "name": "stdout",
     "output_type": "stream",
     "text": [
      "{'name': 6, 'age': 30}\n",
      "<class 'dict'>\n"
     ]
    }
   ],
   "source": [
    "employee = {\"name\": \"Varada\", \"age\": 30, \"name\": 6} # when same key is given again, it will be replaced.\n",
    "print(employee)\n",
    "print(type(employee))"
   ]
  },
  {
   "cell_type": "markdown",
   "metadata": {},
   "source": [
    "#### Accessing dictionary elements"
   ]
  },
  {
   "cell_type": "code",
   "execution_count": 5,
   "metadata": {},
   "outputs": [
    {
     "name": "stdout",
     "output_type": "stream",
     "text": [
      "{'name': 'Varada', 'age': 30, 'sec': 'A'}\n",
      "A\n",
      "Varada\n",
      "30\n"
     ]
    }
   ],
   "source": [
    "## accessing dictionary elements\n",
    "employee = {\"name\": \"Varada\", \"age\": 30, \"sec\": 'A'}\n",
    "print(employee)\n",
    "print(employee['sec'])\n",
    "print(employee[\"name\"])\n",
    "print(employee[\"age\"])"
   ]
  },
  {
   "cell_type": "code",
   "execution_count": 6,
   "metadata": {},
   "outputs": [
    {
     "name": "stdout",
     "output_type": "stream",
     "text": [
      "A\n",
      "None\n",
      "Not given\n"
     ]
    }
   ],
   "source": [
    "## other method for accessing using \"get\" method\n",
    "print(employee.get('sec'))\n",
    "print(employee.get('last_name'))\n",
    "# if no value is present, eg: here last_name is not present, so giving a default value\n",
    "print(employee.get(\"last_anme\", \"Not given\"))"
   ]
  },
  {
   "cell_type": "markdown",
   "metadata": {},
   "source": [
    "#### Modifying elements (add, update, delete)"
   ]
  },
  {
   "cell_type": "code",
   "execution_count": 7,
   "metadata": {},
   "outputs": [
    {
     "name": "stdout",
     "output_type": "stream",
     "text": [
      "{'name': 'Varada', 'age': 30, 'sec': 'A'}\n"
     ]
    }
   ],
   "source": [
    "## Modifying elements\n",
    "## Dictionaries are mutable(add, update, delete)\n",
    "print(employee)"
   ]
  },
  {
   "cell_type": "code",
   "execution_count": 8,
   "metadata": {},
   "outputs": [
    {
     "name": "stdout",
     "output_type": "stream",
     "text": [
      "{'name': 'Varada', 'age': 12, 'sec': 'A'}\n",
      "{'name': 'Varada', 'age': 12, 'sec': 'A', 'address': 'Kozhikode'}\n"
     ]
    }
   ],
   "source": [
    "employee[\"age\"] = 12 # updating value of key\n",
    "print(employee)\n",
    "employee[\"address\"] = \"Kozhikode\" # adding new key \n",
    "print(employee)"
   ]
  },
  {
   "cell_type": "code",
   "execution_count": 9,
   "metadata": {},
   "outputs": [
    {
     "name": "stdout",
     "output_type": "stream",
     "text": [
      "{'name': 'Varada', 'age': 12, 'address': 'Kozhikode'}\n"
     ]
    }
   ],
   "source": [
    "## delete key and value pair\n",
    "del employee['sec']\n",
    "print(employee)\n"
   ]
  },
  {
   "cell_type": "markdown",
   "metadata": {},
   "source": [
    "#### Dictionary Methods"
   ]
  },
  {
   "cell_type": "code",
   "execution_count": 10,
   "metadata": {},
   "outputs": [
    {
     "name": "stdout",
     "output_type": "stream",
     "text": [
      "keys... dict_keys(['name', 'age', 'address'])\n",
      "values... dict_values(['Varada', 12, 'Kozhikode'])\n"
     ]
    }
   ],
   "source": [
    "## Dictionary methods\n",
    "keys = employee.keys()\n",
    "print(\"keys...\", keys)\n",
    "values = employee.values()\n",
    "print(\"values...\", values)"
   ]
  },
  {
   "cell_type": "code",
   "execution_count": 12,
   "metadata": {},
   "outputs": [
    {
     "data": {
      "text/plain": [
       "dict_items([('name', 'Varada'), ('age', 12), ('address', 'Kozhikode')])"
      ]
     },
     "execution_count": 12,
     "metadata": {},
     "output_type": "execute_result"
    }
   ],
   "source": [
    "# get all pairs\n",
    "items = employee.items()\n",
    "items"
   ]
  },
  {
   "cell_type": "markdown",
   "metadata": {},
   "source": [
    "#### Shallow copy"
   ]
  },
  {
   "cell_type": "code",
   "execution_count": 13,
   "metadata": {},
   "outputs": [
    {
     "name": "stdout",
     "output_type": "stream",
     "text": [
      "{'name': 'Varada', 'age': 12, 'address': 'Kozhikode'}\n",
      "{'name': 'Varada', 'age': 12, 'address': 'Kozhikode'}\n"
     ]
    }
   ],
   "source": [
    "## shallow copy\n",
    "employee_copy = employee\n",
    "print(employee)\n",
    "print(employee_copy)"
   ]
  },
  {
   "cell_type": "code",
   "execution_count": 14,
   "metadata": {},
   "outputs": [
    {
     "name": "stdout",
     "output_type": "stream",
     "text": [
      "{'name': 'Revathy', 'age': 12, 'address': 'Kozhikode'}\n",
      "{'name': 'Revathy', 'age': 12, 'address': 'Kozhikode'}\n"
     ]
    }
   ],
   "source": [
    "employee[\"name\"] = \"Revathy\"\n",
    "print(employee)\n",
    "print(employee_copy) # same effect will take place in both dictionaries, for that we are using shallow copy"
   ]
  },
  {
   "cell_type": "code",
   "execution_count": 15,
   "metadata": {},
   "outputs": [
    {
     "name": "stdout",
     "output_type": "stream",
     "text": [
      "{'name': 'Revathy', 'age': 12, 'address': 'Kozhikode'}\n",
      "{'name': 'Revathy', 'age': 12, 'address': 'Kozhikode'}\n"
     ]
    }
   ],
   "source": [
    "employee_copy1 = employee.copy() # shallow copy, it takes the reference of this variable and give it to another memory, which will have entire value that we need to store\n",
    "print(employee)\n",
    "print(employee_copy)"
   ]
  },
  {
   "cell_type": "code",
   "execution_count": 16,
   "metadata": {},
   "outputs": [
    {
     "name": "stdout",
     "output_type": "stream",
     "text": [
      "{'name': 'Varada', 'age': 12, 'address': 'Kozhikode'}\n",
      "{'name': 'Revathy', 'age': 12, 'address': 'Kozhikode'}\n"
     ]
    }
   ],
   "source": [
    "employee[\"name\"] = \"Varada\"\n",
    "print(employee)\n",
    "print(employee_copy1)"
   ]
  },
  {
   "cell_type": "markdown",
   "metadata": {},
   "source": [
    "#### Iterating over dictionaries"
   ]
  },
  {
   "cell_type": "code",
   "execution_count": 17,
   "metadata": {},
   "outputs": [
    {
     "name": "stdout",
     "output_type": "stream",
     "text": [
      "name\n",
      "age\n",
      "address\n"
     ]
    }
   ],
   "source": [
    "## iterating over dictionaries\n",
    "## can loop \n",
    "## iterating through keys\n",
    "for key in employee.keys():\n",
    "    print(key)\n"
   ]
  },
  {
   "cell_type": "code",
   "execution_count": 18,
   "metadata": {},
   "outputs": [
    {
     "name": "stdout",
     "output_type": "stream",
     "text": [
      "Varada\n",
      "12\n",
      "Kozhikode\n"
     ]
    }
   ],
   "source": [
    "# iterate over values\n",
    "for value in employee.values():\n",
    "    print(value)"
   ]
  },
  {
   "cell_type": "code",
   "execution_count": 20,
   "metadata": {},
   "outputs": [
    {
     "name": "stdout",
     "output_type": "stream",
     "text": [
      "name:Varada\n",
      "age:12\n",
      "address:Kozhikode\n"
     ]
    }
   ],
   "source": [
    "# iterate over key value pairs\n",
    "for key, value in employee.items():\n",
    "    print(f\"{key}:{value}\")"
   ]
  },
  {
   "cell_type": "markdown",
   "metadata": {},
   "source": [
    "#### Nested Dictionaries"
   ]
  },
  {
   "cell_type": "code",
   "execution_count": 21,
   "metadata": {},
   "outputs": [
    {
     "name": "stdout",
     "output_type": "stream",
     "text": [
      "{'emp1': {'name': 'ruksin', 'age': 28}, 'emp2': {'name': 'varada', 'age': 30}, 'emp3': {'name': 'revathy', 'age': 29}}\n"
     ]
    }
   ],
   "source": [
    "## nested dictionaries\n",
    "employees ={\n",
    "    \"emp1\" :{\"name\": \"ruksin\", \"age\": 28},\n",
    "    \"emp2\": {\"name\":\"varada\", \"age\":30},\n",
    "    \"emp3\":{\"name\":\"revathy\", \"age\":29}\n",
    "}\n",
    "print(employees)"
   ]
  },
  {
   "cell_type": "code",
   "execution_count": 25,
   "metadata": {},
   "outputs": [
    {
     "name": "stdout",
     "output_type": "stream",
     "text": [
      "ruksin\n",
      "30\n"
     ]
    }
   ],
   "source": [
    "# access nested dictionaries\n",
    "print(employees[\"emp1\"][\"name\"])\n",
    "print(employees[\"emp2\"][\"age\"])"
   ]
  },
  {
   "cell_type": "code",
   "execution_count": 26,
   "metadata": {},
   "outputs": [
    {
     "data": {
      "text/plain": [
       "dict_items([('emp1', {'name': 'ruksin', 'age': 28}), ('emp2', {'name': 'varada', 'age': 30}), ('emp3', {'name': 'revathy', 'age': 29})])"
      ]
     },
     "execution_count": 26,
     "metadata": {},
     "output_type": "execute_result"
    }
   ],
   "source": [
    "employees.items()"
   ]
  },
  {
   "cell_type": "code",
   "execution_count": 28,
   "metadata": {},
   "outputs": [
    {
     "name": "stdout",
     "output_type": "stream",
     "text": [
      "emp1 : {'name': 'ruksin', 'age': 28}\n",
      "name:ruksin\n",
      "age:28\n",
      "emp2 : {'name': 'varada', 'age': 30}\n",
      "name:varada\n",
      "age:30\n",
      "emp3 : {'name': 'revathy', 'age': 29}\n",
      "name:revathy\n",
      "age:29\n"
     ]
    }
   ],
   "source": [
    "# iterating over nested dictionaries\n",
    "for emp_id, emp_info in employees.items():\n",
    "    print(f\"{emp_id} : {emp_info}\")\n",
    "    for key, value in emp_info.items():\n",
    "        print(f\"{key}:{value}\")"
   ]
  },
  {
   "cell_type": "markdown",
   "metadata": {},
   "source": [
    "#### Dictionay Comprehension"
   ]
  },
  {
   "cell_type": "code",
   "execution_count": 29,
   "metadata": {},
   "outputs": [
    {
     "name": "stdout",
     "output_type": "stream",
     "text": [
      "{0: 0, 1: 1, 2: 4, 3: 9, 4: 16}\n"
     ]
    }
   ],
   "source": [
    "## Dictionary comprehension\n",
    "squares = {x: x **2 for x in range(5)}\n",
    "print(squares)"
   ]
  },
  {
   "cell_type": "code",
   "execution_count": 30,
   "metadata": {},
   "outputs": [
    {
     "data": {
      "text/plain": [
       "{0: 0, 1: 1, 2: 4, 3: 9, 4: 16}"
      ]
     },
     "execution_count": 30,
     "metadata": {},
     "output_type": "execute_result"
    }
   ],
   "source": [
    "# usual for loop\n",
    "squares = {}\n",
    "for x in range(5):\n",
    "    squares[x] = x**2\n",
    "squares"
   ]
  },
  {
   "cell_type": "code",
   "execution_count": 35,
   "metadata": {},
   "outputs": [
    {
     "name": "stdout",
     "output_type": "stream",
     "text": [
      "{0: 0, 2: 4, 4: 16, 6: 36, 8: 64}\n"
     ]
    }
   ],
   "source": [
    "# conditional dictionary comprehension\n",
    "evens = {x:x**2 for x in range(10) if x%2==0}\n",
    "print(evens)"
   ]
  },
  {
   "cell_type": "code",
   "execution_count": 36,
   "metadata": {},
   "outputs": [
    {
     "name": "stdout",
     "output_type": "stream",
     "text": [
      "{0: 0, 1: 0, 2: 4, 3: 0, 4: 16, 5: 0, 6: 36, 7: 0, 8: 64, 9: 0}\n"
     ]
    }
   ],
   "source": [
    "# conditional dictionary comprehension with if else\n",
    "evens = {x:x**2 if x%2==0 else 0 for x in range(10)}\n",
    "print(evens)"
   ]
  },
  {
   "cell_type": "code",
   "execution_count": 49,
   "metadata": {},
   "outputs": [
    {
     "data": {
      "text/plain": [
       "[{0: 0, 2: 4, 4: 16, 6: 36, 8: 64}, {1: 1, 3: 9, 5: 25, 7: 49, 9: 81}]"
      ]
     },
     "execution_count": 49,
     "metadata": {},
     "output_type": "execute_result"
    }
   ],
   "source": [
    "# also with else\n",
    "eve_odd = [{x:x**2 for x in range(10) if x%2==i} for i in range(2)]\n",
    "eve_odd"
   ]
  },
  {
   "cell_type": "markdown",
   "metadata": {},
   "source": [
    "#### Practical examples"
   ]
  },
  {
   "cell_type": "code",
   "execution_count": 43,
   "metadata": {},
   "outputs": [
    {
     "data": {
      "text/plain": [
       "[1, 2, 3, 4]"
      ]
     },
     "execution_count": 43,
     "metadata": {},
     "output_type": "execute_result"
    }
   ],
   "source": [
    "# practical examples\n",
    "#to count the frequency of elements in list\n",
    "numbers = [1,1,2,2,3,3,3,4,4,4,4]\n",
    "unique = list(set(numbers))\n",
    "unique"
   ]
  },
  {
   "cell_type": "code",
   "execution_count": 44,
   "metadata": {},
   "outputs": [
    {
     "data": {
      "text/plain": [
       "2"
      ]
     },
     "execution_count": 44,
     "metadata": {},
     "output_type": "execute_result"
    }
   ],
   "source": [
    "numbers.count(2)"
   ]
  },
  {
   "cell_type": "code",
   "execution_count": 45,
   "metadata": {},
   "outputs": [
    {
     "data": {
      "text/plain": [
       "{1: 2, 2: 2, 3: 3, 4: 4}"
      ]
     },
     "execution_count": 45,
     "metadata": {},
     "output_type": "execute_result"
    }
   ],
   "source": [
    "frequency = {num:numbers.count(num) for num in unique}\n",
    "frequency"
   ]
  },
  {
   "cell_type": "code",
   "execution_count": 46,
   "metadata": {},
   "outputs": [
    {
     "name": "stdout",
     "output_type": "stream",
     "text": [
      "2\n"
     ]
    }
   ],
   "source": [
    "if 1 in frequency:\n",
    "    print(frequency[1])"
   ]
  },
  {
   "cell_type": "code",
   "execution_count": 47,
   "metadata": {},
   "outputs": [
    {
     "data": {
      "text/plain": [
       "{1: 2, 2: 2, 3: 3, 4: 4}"
      ]
     },
     "execution_count": 47,
     "metadata": {},
     "output_type": "execute_result"
    }
   ],
   "source": [
    "# with no inbuilt functions\n",
    "freq = {}\n",
    "for num in numbers:\n",
    "    if num in freq:\n",
    "        freq[num] +=1\n",
    "    else:\n",
    "        freq[num] = 1\n",
    "freq"
   ]
  },
  {
   "cell_type": "code",
   "execution_count": 50,
   "metadata": {},
   "outputs": [
    {
     "data": {
      "text/plain": [
       "{'a': 1, 'b': 2, 'd': 3, 'c': 4}"
      ]
     },
     "execution_count": 50,
     "metadata": {},
     "output_type": "execute_result"
    }
   ],
   "source": [
    "# merge dictionaries to one\n",
    "dict1 = {\"a\":1, \"b\":2}\n",
    "dict2={\"d\":3, \"c\":4}\n",
    "merged_dict = {**dict1, **dict2} # using \"**\" takes any no of key value pairs and append > called as keyword argument\n",
    "merged_dict"
   ]
  },
  {
   "cell_type": "markdown",
   "metadata": {},
   "source": []
  }
 ],
 "metadata": {
  "kernelspec": {
   "display_name": ".genaivenv",
   "language": "python",
   "name": "python3"
  },
  "language_info": {
   "codemirror_mode": {
    "name": "ipython",
    "version": 3
   },
   "file_extension": ".py",
   "mimetype": "text/x-python",
   "name": "python",
   "nbconvert_exporter": "python",
   "pygments_lexer": "ipython3",
   "version": "3.12.4"
  }
 },
 "nbformat": 4,
 "nbformat_minor": 2
}
