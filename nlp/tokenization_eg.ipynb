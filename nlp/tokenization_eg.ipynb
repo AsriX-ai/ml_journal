{
 "cells": [
  {
   "cell_type": "code",
   "execution_count": 1,
   "metadata": {},
   "outputs": [],
   "source": [
    "corpus = \"\"\"\n",
    "I'm ruksin, very much fond of machine learning. Currently working as a software engineer in the same field! Want to explore each and every part of machin learning technology. Creating a self study plan to motivate myself.\n",
    "\"\"\""
   ]
  },
  {
   "cell_type": "code",
   "execution_count": 2,
   "metadata": {},
   "outputs": [],
   "source": [
    "# import nltk\n",
    "# nltk.download('punkt_tab')\n",
    "# nltk.download('punkt_tab')"
   ]
  },
  {
   "cell_type": "code",
   "execution_count": 4,
   "metadata": {},
   "outputs": [],
   "source": [
    "# nltk.data.path.append('/home/thinkpalm/nltk_data')\n",
    "from nltk.tokenize import sent_tokenize #(this converts paragraph to sentences)\n",
    "documents = sent_tokenize(corpus)"
   ]
  },
  {
   "cell_type": "code",
   "execution_count": 5,
   "metadata": {},
   "outputs": [
    {
     "data": {
      "text/plain": [
       "[\"\\nI'm ruksin, very much fond of machine learning.\",\n",
       " 'Currently working as a software engineer in the same field!',\n",
       " 'Want to explore each and every part of machin learning technology.',\n",
       " 'Creating a self study plan to motivate myself.']"
      ]
     },
     "execution_count": 5,
     "metadata": {},
     "output_type": "execute_result"
    }
   ],
   "source": [
    "documents"
   ]
  },
  {
   "cell_type": "code",
   "execution_count": 27,
   "metadata": {},
   "outputs": [
    {
     "name": "stdout",
     "output_type": "stream",
     "text": [
      "\n",
      "I'm ruksin, very much fond of machine learning.\n",
      "Currently working as a software engineer in the same field!\n",
      "Want to explore each and every part of machin learning technology.\n",
      "Creating a self study plan to motivate myself.\n"
     ]
    }
   ],
   "source": [
    "for sentence in documents:\n",
    "    print(sentence)"
   ]
  },
  {
   "cell_type": "code",
   "execution_count": 28,
   "metadata": {},
   "outputs": [
    {
     "data": {
      "text/plain": [
       "['I',\n",
       " \"'m\",\n",
       " 'ruksin',\n",
       " ',',\n",
       " 'very',\n",
       " 'much',\n",
       " 'fond',\n",
       " 'of',\n",
       " 'machine',\n",
       " 'learning',\n",
       " '.',\n",
       " 'Currently',\n",
       " 'working',\n",
       " 'as',\n",
       " 'a',\n",
       " 'software',\n",
       " 'engineer',\n",
       " 'in',\n",
       " 'the',\n",
       " 'same',\n",
       " 'field',\n",
       " '!',\n",
       " 'Want',\n",
       " 'to',\n",
       " 'explore',\n",
       " 'each',\n",
       " 'and',\n",
       " 'every',\n",
       " 'part',\n",
       " 'of',\n",
       " 'machin',\n",
       " 'learning',\n",
       " 'technology',\n",
       " '.',\n",
       " 'Creating',\n",
       " 'a',\n",
       " 'self',\n",
       " 'study',\n",
       " 'plan',\n",
       " 'to',\n",
       " 'motivate',\n",
       " 'myself',\n",
       " '.']"
      ]
     },
     "execution_count": 28,
     "metadata": {},
     "output_type": "execute_result"
    }
   ],
   "source": [
    "#tokenization\n",
    "# paragraphs to words\n",
    "# sentence to words\n",
    "from nltk.tokenize import word_tokenize\n",
    "word_tokenize(corpus)"
   ]
  },
  {
   "cell_type": "code",
   "execution_count": 29,
   "metadata": {},
   "outputs": [
    {
     "name": "stdout",
     "output_type": "stream",
     "text": [
      "['I', \"'m\", 'ruksin', ',', 'very', 'much', 'fond', 'of', 'machine', 'learning', '.']\n",
      "['Currently', 'working', 'as', 'a', 'software', 'engineer', 'in', 'the', 'same', 'field', '!']\n",
      "['Want', 'to', 'explore', 'each', 'and', 'every', 'part', 'of', 'machin', 'learning', 'technology', '.']\n",
      "['Creating', 'a', 'self', 'study', 'plan', 'to', 'motivate', 'myself', '.']\n"
     ]
    }
   ],
   "source": [
    "# from sentence to words\n",
    "for sentence in documents:\n",
    "    print(word_tokenize(sentence))"
   ]
  },
  {
   "cell_type": "code",
   "execution_count": 30,
   "metadata": {},
   "outputs": [
    {
     "data": {
      "text/plain": [
       "['I',\n",
       " \"'\",\n",
       " 'm',\n",
       " 'ruksin',\n",
       " ',',\n",
       " 'very',\n",
       " 'much',\n",
       " 'fond',\n",
       " 'of',\n",
       " 'machine',\n",
       " 'learning',\n",
       " '.',\n",
       " 'Currently',\n",
       " 'working',\n",
       " 'as',\n",
       " 'a',\n",
       " 'software',\n",
       " 'engineer',\n",
       " 'in',\n",
       " 'the',\n",
       " 'same',\n",
       " 'field',\n",
       " '!',\n",
       " 'Want',\n",
       " 'to',\n",
       " 'explore',\n",
       " 'each',\n",
       " 'and',\n",
       " 'every',\n",
       " 'part',\n",
       " 'of',\n",
       " 'machin',\n",
       " 'learning',\n",
       " 'technology',\n",
       " '.',\n",
       " 'Creating',\n",
       " 'a',\n",
       " 'self',\n",
       " 'study',\n",
       " 'plan',\n",
       " 'to',\n",
       " 'motivate',\n",
       " 'myself',\n",
       " '.']"
      ]
     },
     "execution_count": 30,
     "metadata": {},
     "output_type": "execute_result"
    }
   ],
   "source": [
    "from nltk.tokenize import wordpunct_tokenize\n",
    "wordpunct_tokenize(corpus) # here punctuation (') is treated as sepearte word"
   ]
  },
  {
   "cell_type": "code",
   "execution_count": 33,
   "metadata": {},
   "outputs": [
    {
     "name": "stdout",
     "output_type": "stream",
     "text": [
      "['I', \"'\", 'm', 'ruksin', ',', 'very', 'much', 'fond', 'of', 'machine', 'learning', '.']\n",
      "['Currently', 'working', 'as', 'a', 'software', 'engineer', 'in', 'the', 'same', 'field', '!']\n",
      "['Want', 'to', 'explore', 'each', 'and', 'every', 'part', 'of', 'machin', 'learning', 'technology', '.']\n",
      "['Creating', 'a', 'self', 'study', 'plan', 'to', 'motivate', 'myself', '.']\n"
     ]
    }
   ],
   "source": [
    "# from sentence to words\n",
    "for sentence in documents:\n",
    "    print(wordpunct_tokenize(sentence))"
   ]
  },
  {
   "cell_type": "code",
   "execution_count": 31,
   "metadata": {},
   "outputs": [
    {
     "data": {
      "text/plain": [
       "['I',\n",
       " \"'m\",\n",
       " 'ruksin',\n",
       " ',',\n",
       " 'very',\n",
       " 'much',\n",
       " 'fond',\n",
       " 'of',\n",
       " 'machine',\n",
       " 'learning.',\n",
       " 'Currently',\n",
       " 'working',\n",
       " 'as',\n",
       " 'a',\n",
       " 'software',\n",
       " 'engineer',\n",
       " 'in',\n",
       " 'the',\n",
       " 'same',\n",
       " 'field',\n",
       " '!',\n",
       " 'Want',\n",
       " 'to',\n",
       " 'explore',\n",
       " 'each',\n",
       " 'and',\n",
       " 'every',\n",
       " 'part',\n",
       " 'of',\n",
       " 'machin',\n",
       " 'learning',\n",
       " 'technology.',\n",
       " 'Creating',\n",
       " 'a',\n",
       " 'self',\n",
       " 'study',\n",
       " 'plan',\n",
       " 'to',\n",
       " 'motivate',\n",
       " 'myself',\n",
       " '.']"
      ]
     },
     "execution_count": 31,
     "metadata": {},
     "output_type": "execute_result"
    }
   ],
   "source": [
    "from nltk.tokenize import TreebankWordTokenizer\n",
    "tokenizer = TreebankWordTokenizer()\n",
    "tokenizer.tokenize(corpus)\n",
    "# in paragraphs to sentences, except for the last '.' , others are not treated as seperate word."
   ]
  },
  {
   "cell_type": "code",
   "execution_count": 32,
   "metadata": {},
   "outputs": [
    {
     "name": "stdout",
     "output_type": "stream",
     "text": [
      "['I', \"'m\", 'ruksin', ',', 'very', 'much', 'fond', 'of', 'machine', 'learning', '.']\n",
      "['Currently', 'working', 'as', 'a', 'software', 'engineer', 'in', 'the', 'same', 'field', '!']\n",
      "['Want', 'to', 'explore', 'each', 'and', 'every', 'part', 'of', 'machin', 'learning', 'technology', '.']\n",
      "['Creating', 'a', 'self', 'study', 'plan', 'to', 'motivate', 'myself', '.']\n"
     ]
    }
   ],
   "source": [
    "# from sentence to words\n",
    "for sentence in documents:\n",
    "    print(tokenizer.tokenize(sentence))"
   ]
  },
  {
   "cell_type": "code",
   "execution_count": null,
   "metadata": {},
   "outputs": [],
   "source": []
  },
  {
   "cell_type": "code",
   "execution_count": null,
   "metadata": {},
   "outputs": [],
   "source": []
  }
 ],
 "metadata": {
  "kernelspec": {
   "display_name": ".genaivenv",
   "language": "python",
   "name": "python3"
  },
  "language_info": {
   "codemirror_mode": {
    "name": "ipython",
    "version": 3
   },
   "file_extension": ".py",
   "mimetype": "text/x-python",
   "name": "python",
   "nbconvert_exporter": "python",
   "pygments_lexer": "ipython3",
   "version": "3.12.4"
  }
 },
 "nbformat": 4,
 "nbformat_minor": 2
}
